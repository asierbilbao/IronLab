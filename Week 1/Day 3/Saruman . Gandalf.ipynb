{
 "cells": [
  {
   "cell_type": "code",
   "execution_count": 1,
   "id": "e8727d55",
   "metadata": {},
   "outputs": [],
   "source": [
    "gandalf = ['Fireball', 'Lightning bolt', 'Lightning bolt', 'Magic arrow', 'Fireball', 'Magic arrow', 'Lightning bolt', 'Fireball', 'Fireball', 'Fireball']\n",
    "\n",
    "saruman = ['Contagion', 'Contagion', 'Black Tentacles', 'Fireball', 'Black Tentacles', 'Lightning bolt', 'Magic arrow', 'Contagion', 'Magic arrow', 'Magic arrow']\n",
    "\n",
    "    \n",
    "gandalf_points = []\n",
    "for i in gandalf:\n",
    "    if i == 'Fireball':\n",
    "        gandalf_points.append(50)\n",
    "    elif i == 'Lightning bolt':\n",
    "        gandalf_points.append(40)\n",
    "    elif i == 'Magic arrow':\n",
    "        gandalf_points.append(10)\n",
    "    elif i == 'Black Tentacles':\n",
    "        gandalf_points.append(25)\n",
    "    elif i == 'Contagion':\n",
    "        gandalf_points.append(45)\n",
    "    else:\n",
    "        pass   \n",
    "    \n"
   ]
  },
  {
   "cell_type": "code",
   "execution_count": 2,
   "id": "5edaf813",
   "metadata": {},
   "outputs": [],
   "source": [
    "    \n",
    "saruman_points = []\n",
    "for i in saruman:\n",
    "    if i == 'Fireball':\n",
    "        saruman_points.append(50)\n",
    "    elif i == 'Lightning bolt':\n",
    "        saruman_points.append(40)\n",
    "    elif i == 'Magic arrow':\n",
    "        saruman_points.append(10)\n",
    "    elif i == 'Black Tentacles':\n",
    "        saruman_points.append(25)\n",
    "    elif i == 'Contagion':\n",
    "        saruman_points.append(45)\n",
    "    else:\n",
    "        pass "
   ]
  },
  {
   "cell_type": "code",
   "execution_count": 3,
   "id": "fe06f82d",
   "metadata": {},
   "outputs": [
    {
     "name": "stdout",
     "output_type": "stream",
     "text": [
      "[50, 40, 40, 10, 50, 10, 40, 50, 50, 50]\n",
      "[45, 45, 25, 50, 25, 40, 10, 45, 10, 10]\n"
     ]
    }
   ],
   "source": [
    "print(gandalf_points)\n",
    "print(saruman_points)"
   ]
  },
  {
   "cell_type": "code",
   "execution_count": 5,
   "id": "360146e3",
   "metadata": {},
   "outputs": [
    {
     "name": "stdout",
     "output_type": "stream",
     "text": [
      "[0, 1, 0, 1, 0, 1, 0, 0, 0, 0]\n"
     ]
    }
   ],
   "source": [
    "results = []\n",
    "for i in range(len(saruman_points)):\n",
    "    if gandalf_points[i] > saruman_points[i]:\n",
    "        results.append(0)\n",
    "    elif gandalf_points[i] < saruman_points[i]:\n",
    "        results.append(1)\n",
    "    elif gandalf_points[i] == saruman_points[i]:\n",
    "        results.append(2)\n",
    "print(results)"
   ]
  },
  {
   "cell_type": "code",
   "execution_count": 7,
   "id": "82fb6791",
   "metadata": {},
   "outputs": [],
   "source": [
    "def battle(results):\n",
    "    \n",
    "    for i in range(len(results)-1):\n",
    "        if results[i] == results[i+1] == results[i+2] == 0:\n",
    "            return print('Gandalf wins')\n",
    "        elif results[i] == results[i+1] == results[i+2] == 1:\n",
    "            return print('Saruman wins')\n",
    "        else:\n",
    "            pass"
   ]
  },
  {
   "cell_type": "code",
   "execution_count": 8,
   "id": "646a1ba8",
   "metadata": {},
   "outputs": [
    {
     "name": "stdout",
     "output_type": "stream",
     "text": [
      "Gandalf wins\n"
     ]
    }
   ],
   "source": [
    "battle(results)"
   ]
  },
  {
   "cell_type": "code",
   "execution_count": null,
   "id": "06bad176",
   "metadata": {},
   "outputs": [],
   "source": []
  }
 ],
 "metadata": {
  "kernelspec": {
   "display_name": "Python 3 (ipykernel)",
   "language": "python",
   "name": "python3"
  },
  "language_info": {
   "codemirror_mode": {
    "name": "ipython",
    "version": 3
   },
   "file_extension": ".py",
   "mimetype": "text/x-python",
   "name": "python",
   "nbconvert_exporter": "python",
   "pygments_lexer": "ipython3",
   "version": "3.9.12"
  }
 },
 "nbformat": 4,
 "nbformat_minor": 5
}
