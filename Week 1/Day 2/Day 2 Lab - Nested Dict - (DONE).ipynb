{
 "cells": [
  {
   "cell_type": "markdown",
   "id": "0ff82a7a",
   "metadata": {},
   "source": [
    "# Challenge 4: Nested dictionaries"
   ]
  },
  {
   "cell_type": "markdown",
   "id": "5b92257c",
   "metadata": {},
   "source": [
    "Next week we will deal with web scraping and API's. Python wise this means since we will encounter file formats like JSON we will have to deal with a lot of dictionaries. Not only ordinary dictionaries, but also nested ones. In this lab we will train handling them.\n",
    "\n",
    "In the following, if we show values with markdown, just copy-paste them into your `# my code here` field if you need them."
   ]
  },
  {
   "cell_type": "markdown",
   "id": "26860027",
   "metadata": {},
   "source": [
    "**Warm up phase: Here are some keys and values. Use them to build a dictionary called `numbers_dct`**"
   ]
  },
  {
   "cell_type": "markdown",
   "id": "ce7b9144",
   "metadata": {},
   "source": [
    "```python\n",
    "keys = ['hundred', 'twohundred', 'threehundred']\n",
    "values = [10, 20, 30]\n",
    "```"
   ]
  },
  {
   "cell_type": "code",
   "execution_count": 10,
   "id": "0c49f983",
   "metadata": {},
   "outputs": [
    {
     "data": {
      "text/plain": [
       "{'hundred': 10, 'twohundred': 20, 'threehundred': 30}"
      ]
     },
     "execution_count": 10,
     "metadata": {},
     "output_type": "execute_result"
    }
   ],
   "source": [
    "# your code here\n",
    "keys = ['hundred', 'twohundred', 'threehundred']\n",
    "values = [10, 20, 30]\n",
    "\n",
    "numbers_dct = dict(zip(keys, values))\n",
    "\n",
    "numbers_dct "
   ]
  },
  {
   "cell_type": "markdown",
   "id": "82106422",
   "metadata": {},
   "source": [
    "**Here are two dictionaries. Merge their entries to a third dictionary**"
   ]
  },
  {
   "cell_type": "markdown",
   "id": "853eb147",
   "metadata": {},
   "source": [
    "```python\n",
    "dict1 = {'One': 1, 'Two': 2, 'Six': 6}\n",
    "dict2 = {'Thirty': 30, 'Fourty': 40, 'Fifty': 50}\n",
    "```"
   ]
  },
  {
   "cell_type": "code",
   "execution_count": 13,
   "id": "4f89673d",
   "metadata": {},
   "outputs": [
    {
     "name": "stdout",
     "output_type": "stream",
     "text": [
      "{'One': 1, 'Two': 2, 'Six': 6, 'Thirty': 30, 'Fourty': 40, 'Fifty': 50}\n"
     ]
    }
   ],
   "source": [
    "# your code here\n",
    "dict1 = {'One': 1, 'Two': 2, 'Six': 6}\n",
    "dict2 = {'Thirty': 30, 'Fourty': 40, 'Fifty': 50}\n",
    "\n",
    "dict3 = (dict1 | dict2)\n",
    "print(dict3)\n"
   ]
  },
  {
   "cell_type": "markdown",
   "id": "6cc95e99",
   "metadata": {},
   "source": [
    "**Nested dictionaries**"
   ]
  },
  {
   "cell_type": "markdown",
   "id": "8b6824f3",
   "metadata": {},
   "source": [
    "Here comes a bigger, nested dictionary. Store Martin's French grades in a variable called `martins_french` by navigating to the value using keys and values. Remember, while you drill down the structure of the dictionary and you encounter a new dictionary, you can always use `.keys()` and `.values()` to not loose orientation."
   ]
  },
  {
   "cell_type": "code",
   "execution_count": 2,
   "id": "0609be7f",
   "metadata": {},
   "outputs": [],
   "source": [
    "sampleDict = {\n",
    "    \"class\":{\n",
    "        \"student_list\":{\n",
    "            \"Anna\":{\n",
    "                \"marks\":{\n",
    "                    \"physics\":[70, 20, 100, 20],\n",
    "                    \"history\":[80,10,55,35],\n",
    "                    \"math\":[100, 90, 70, 35],\n",
    "                }\n",
    "            },\n",
    "            \"Martin\":{\n",
    "                \"marks\":{\n",
    "                    \"french\":[20, 10, 35, 45],\n",
    "                    \"spanish\":[40, 75, 50, 90],\n",
    "                    \"math\": [90,85, 90, 95],\n",
    "                }\n",
    "            },\n",
    "            \"Richard\":{\n",
    "                \"marks\":{\n",
    "                    \"physics\":[10, 10, 0, 90],\n",
    "                    \"biology\":[50, 50, 70, 75],\n",
    "                    \"math\":[90, 70, 50, 40],\n",
    "                }\n",
    "            }\n",
    "        }\n",
    "    }\n",
    "}"
   ]
  },
  {
   "cell_type": "code",
   "execution_count": 10,
   "id": "55fcee28",
   "metadata": {},
   "outputs": [
    {
     "data": {
      "text/plain": [
       "[20, 10, 35, 45]"
      ]
     },
     "execution_count": 10,
     "metadata": {},
     "output_type": "execute_result"
    }
   ],
   "source": [
    "# your code here\n",
    "martins_french = sampleDict['class'][\"student_list\"][\"Martin\"][\"marks\"][\"french\"]\n",
    "martins_french "
   ]
  },
  {
   "cell_type": "markdown",
   "id": "e935dd13",
   "metadata": {},
   "source": [
    "**Calculate the mean of Richard's biology's grades**"
   ]
  },
  {
   "cell_type": "code",
   "execution_count": 12,
   "id": "b55e1ee4",
   "metadata": {},
   "outputs": [
    {
     "data": {
      "text/plain": [
       "61.25"
      ]
     },
     "execution_count": 12,
     "metadata": {},
     "output_type": "execute_result"
    }
   ],
   "source": [
    "# your code here\n",
    "richard_biology = sampleDict['class'][\"student_list\"]['Richard']['marks']['biology']\n",
    "import numpy as np\n",
    "np.mean(richard_biology)"
   ]
  },
  {
   "cell_type": "markdown",
   "id": "8fd6b018",
   "metadata": {},
   "source": [
    "**Return a list of all the students**"
   ]
  },
  {
   "cell_type": "code",
   "execution_count": 16,
   "id": "102c92e3",
   "metadata": {},
   "outputs": [
    {
     "data": {
      "text/plain": [
       "['Anna', 'Martin', 'Richard']"
      ]
     },
     "execution_count": 16,
     "metadata": {},
     "output_type": "execute_result"
    }
   ],
   "source": [
    "# your code here\n",
    "students_list = list(sampleDict['class'][\"student_list\"].keys())\n",
    "students_list"
   ]
  },
  {
   "cell_type": "markdown",
   "id": "467fdf08",
   "metadata": {},
   "source": [
    "**Return Anna's 2nd grade in history**"
   ]
  },
  {
   "cell_type": "code",
   "execution_count": 21,
   "id": "72da977b",
   "metadata": {},
   "outputs": [
    {
     "data": {
      "text/plain": [
       "10"
      ]
     },
     "execution_count": 21,
     "metadata": {},
     "output_type": "execute_result"
    }
   ],
   "source": [
    "sampleDict['class']['student_list']['Anna']['marks']['history'][1]"
   ]
  },
  {
   "cell_type": "markdown",
   "id": "f3897907",
   "metadata": {},
   "source": [
    "**Return all the grades that are 3rd in the list for every subject for all the students**\n",
    "\n",
    "Use appropriate `for` loops and a `print()` statement"
   ]
  },
  {
   "cell_type": "code",
   "execution_count": 42,
   "id": "956d1f3e",
   "metadata": {},
   "outputs": [
    {
     "name": "stdout",
     "output_type": "stream",
     "text": [
      "20\n",
      "35\n",
      "35\n",
      "45\n",
      "90\n",
      "95\n",
      "90\n",
      "75\n",
      "40\n"
     ]
    }
   ],
   "source": [
    "# your code here\n",
    "student_list_marks = sampleDict['class']['student_list']\n",
    "student_list_marks = sampleDict['class']['student_list']\n",
    "\n",
    "for k in student_list_marks:    \n",
    "    for j in student_list_marks[k]:\n",
    "        for h in student_list_marks[k][j]:\n",
    "            print(student_list_marks[k][j][h][3])\n",
    "            \n",
    "    "
   ]
  },
  {
   "cell_type": "markdown",
   "id": "dc295ef3",
   "metadata": {},
   "source": [
    "**Get all the grades and store them in a list `all_grades` Calculate the mean (solution: 55.97)**\n",
    "\n",
    "You can of course use a modified version of your solution of the previous question."
   ]
  },
  {
   "cell_type": "code",
   "execution_count": 57,
   "id": "f4173977",
   "metadata": {},
   "outputs": [
    {
     "data": {
      "text/plain": [
       "[70,\n",
       " 20,\n",
       " 100,\n",
       " 20,\n",
       " 80,\n",
       " 10,\n",
       " 55,\n",
       " 35,\n",
       " 100,\n",
       " 90,\n",
       " 70,\n",
       " 35,\n",
       " 20,\n",
       " 10,\n",
       " 35,\n",
       " 45,\n",
       " 40,\n",
       " 75,\n",
       " 50,\n",
       " 90,\n",
       " 90,\n",
       " 85,\n",
       " 90,\n",
       " 95,\n",
       " 10,\n",
       " 10,\n",
       " 0,\n",
       " 90,\n",
       " 50,\n",
       " 50,\n",
       " 70,\n",
       " 75,\n",
       " 90,\n",
       " 70,\n",
       " 50,\n",
       " 40]"
      ]
     },
     "execution_count": 57,
     "metadata": {},
     "output_type": "execute_result"
    }
   ],
   "source": [
    "# your code here\n",
    "\n",
    "all_grades = []\n",
    "\n",
    "for k in student_list_marks:    \n",
    "    for j in student_list_marks[k]:\n",
    "        for h in student_list_marks[k][j]:\n",
    "                for u in student_list_marks[k][j][h]:\n",
    "                    all_grades.append(u)\n",
    "\n",
    "all_grades"
   ]
  },
  {
   "cell_type": "code",
   "execution_count": 58,
   "id": "b14c3b1c",
   "metadata": {},
   "outputs": [
    {
     "data": {
      "text/plain": [
       "55.97222222222222"
      ]
     },
     "execution_count": 58,
     "metadata": {},
     "output_type": "execute_result"
    }
   ],
   "source": [
    "import numpy as np\n",
    "np.mean(all_grades)"
   ]
  },
  {
   "cell_type": "markdown",
   "id": "c33710ee",
   "metadata": {},
   "source": [
    "**Save that list as a column in a pandas dataframe and plot a histogram with it**"
   ]
  },
  {
   "cell_type": "code",
   "execution_count": 70,
   "id": "c940a412",
   "metadata": {},
   "outputs": [
    {
     "data": {
      "text/plain": [
       "{70: 4,\n",
       " 20: 3,\n",
       " 100: 2,\n",
       " 80: 1,\n",
       " 10: 4,\n",
       " 55: 1,\n",
       " 35: 3,\n",
       " 90: 6,\n",
       " 45: 1,\n",
       " 40: 2,\n",
       " 75: 2,\n",
       " 50: 4,\n",
       " 85: 1,\n",
       " 95: 1,\n",
       " 0: 1}"
      ]
     },
     "execution_count": 70,
     "metadata": {},
     "output_type": "execute_result"
    }
   ],
   "source": [
    "# your code here\n",
    "\n",
    "grades_freq = {}\n",
    "for item in all_grades:\n",
    "    if (item in grades_freq):\n",
    "        grades_freq[item] += 1\n",
    "    else:\n",
    "        grades_freq[item] = 1\n",
    "        \n",
    "grades_freq\n"
   ]
  },
  {
   "cell_type": "markdown",
   "id": "581c1e18",
   "metadata": {},
   "source": [
    "Output should look like this"
   ]
  },
  {
   "cell_type": "code",
   "execution_count": 80,
   "id": "544f791b",
   "metadata": {},
   "outputs": [
    {
     "data": {
      "text/plain": [
       "<BarContainer object of 15 artists>"
      ]
     },
     "execution_count": 80,
     "metadata": {},
     "output_type": "execute_result"
    },
    {
     "data": {
      "image/png": "[encoded data removed]",
      "text/plain": [
       "<Figure size 432x288 with 1 Axes>"
      ]
     },
     "metadata": {
      "needs_background": "light"
     },
     "output_type": "display_data"
    }
   ],
   "source": [
    "import matplotlib.pyplot as plt\n",
    "plt.bar(grades_freq.keys(), grades_freq.values(), width=10, color='b')"
   ]
  },
  {
   "cell_type": "markdown",
   "id": "bf1468d8",
   "metadata": {},
   "source": [
    "**Return all the students subjects. Watch out: We don't want repetitions!**"
   ]
  },
  {
   "cell_type": "code",
   "execution_count": 97,
   "id": "dd6a9494",
   "metadata": {},
   "outputs": [],
   "source": [
    "# your code\n",
    "\n",
    "subjects = set()\n",
    "\n",
    "for k in student_list_marks:    \n",
    "    for j in student_list_marks[k]:\n",
    "            for h in student_list_marks[k][j].keys():\n",
    "                subjects.add(h)\n",
    "                \n"
   ]
  },
  {
   "cell_type": "markdown",
   "id": "2144983d",
   "metadata": {},
   "source": [
    "Output should look like this"
   ]
  },
  {
   "cell_type": "code",
   "execution_count": 98,
   "id": "4dabe1ba",
   "metadata": {},
   "outputs": [
    {
     "data": {
      "text/plain": [
       "{'biology', 'french', 'history', 'math', 'physics', 'spanish'}"
      ]
     },
     "execution_count": 98,
     "metadata": {},
     "output_type": "execute_result"
    }
   ],
   "source": [
    "subjects"
   ]
  },
  {
   "cell_type": "markdown",
   "id": "78ecbdb7",
   "metadata": {},
   "source": [
    "**Richard heard you're a data enthusiast and asks you to hack the school server and and replace his worst physics grade rounded to full integers (0) with the mean of his physics grades (he doesn't want to raise suspicion). Help him do that. Check wether your hack was successful by printing his physics grade**"
   ]
  },
  {
   "cell_type": "code",
   "execution_count": 109,
   "id": "70940e05",
   "metadata": {},
   "outputs": [
    {
     "data": {
      "text/plain": [
       "[10, 10, 90, 36.666666666666664]"
      ]
     },
     "execution_count": 109,
     "metadata": {},
     "output_type": "execute_result"
    }
   ],
   "source": [
    "# your code here\n",
    "richard_physics = sampleDict['class'][\"student_list\"]['Richard']['marks']['physics']\n",
    "richard_physics.remove(0)\n",
    "import numpy as np\n",
    "richard_physics_mean = np.mean(richard_physics)\n",
    "richard_physics.append(richard_physics_mean)\n",
    "richard_physics"
   ]
  },
  {
   "cell_type": "markdown",
   "id": "f3ac8abe",
   "metadata": {},
   "source": [
    "**The hack was discovered! They found out it must have been Richard because his physics grade is not a multiple of 5 like all the other grades**\n",
    "\n",
    "Expell Richard (poor Richard!) by removing him from the dictionary. Use `del`. And print the resulting class dictionary."
   ]
  },
  {
   "cell_type": "code",
   "execution_count": 108,
   "id": "62282f21",
   "metadata": {},
   "outputs": [
    {
     "data": {
      "text/plain": [
       "{'class': {'student_list': {'Anna': {'marks': {'physics': [70, 20, 100, 20],\n",
       "     'history': [80, 10, 55, 35],\n",
       "     'math': [100, 90, 70, 35]}},\n",
       "   'Martin': {'marks': {'french': [20, 10, 35, 45],\n",
       "     'spanish': [40, 75, 50, 90],\n",
       "     'math': [90, 85, 90, 95]}}}}}"
      ]
     },
     "execution_count": 108,
     "metadata": {},
     "output_type": "execute_result"
    }
   ],
   "source": [
    "# your code here\n",
    "[10, 10, 36, 90]"
   ]
  },
  {
   "cell_type": "code",
   "execution_count": 110,
   "id": "a9757027",
   "metadata": {},
   "outputs": [],
   "source": [
    "del sampleDict['class'][\"student_list\"]['Richard']"
   ]
  },
  {
   "cell_type": "code",
   "execution_count": 111,
   "id": "62c8ffcb",
   "metadata": {},
   "outputs": [
    {
     "data": {
      "text/plain": [
       "{'class': {'student_list': {'Anna': {'marks': {'physics': [70, 20, 100, 20],\n",
       "     'history': [80, 10, 55, 35],\n",
       "     'math': [100, 90, 70, 35]}},\n",
       "   'Martin': {'marks': {'french': [20, 10, 35, 45],\n",
       "     'spanish': [40, 75, 50, 90],\n",
       "     'math': [90, 85, 90, 95]}}}}}"
      ]
     },
     "execution_count": 111,
     "metadata": {},
     "output_type": "execute_result"
    }
   ],
   "source": [
    "sampleDict"
   ]
  },
  {
   "cell_type": "code",
   "execution_count": null,
   "id": "e0e4543b",
   "metadata": {},
   "outputs": [],
   "source": []
  }
 ],
 "metadata": {
  "kernelspec": {
   "display_name": "Python 3 (ipykernel)",
   "language": "python",
   "name": "python3"
  },
  "language_info": {
   "codemirror_mode": {
    "name": "ipython",
    "version": 3
   },
   "file_extension": ".py",
   "mimetype": "text/x-python",
   "name": "python",
   "nbconvert_exporter": "python",
   "pygments_lexer": "ipython3",
   "version": "3.9.12"
  }
 },
 "nbformat": 4,
 "nbformat_minor": 5
}
