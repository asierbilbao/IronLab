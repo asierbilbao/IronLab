{
 "cells": [
  {
   "cell_type": "markdown",
   "id": "d150cd6a",
   "metadata": {},
   "source": [
    "This is a collection of exercises that have been collected in the numpy mailing list, on stack overflow and in the numpy documentation. The goal of this collection is to offer a quick reference for both old and new users but also to provide a set of exercises for those who teach.\n",
    "\n",
    "If you find an error or think you've a better way to solve some of them, feel free to open an issue at https://github.com/rougier/numpy-100. File automatically generated. See the documentation to update questions/answers/hints programmatically.\n",
    "\n",
    "1. Import the numpy package under the name np (★☆☆)\n",
    "hint: import … as\n",
    "\n",
    "2. Create a null vector of size 10 (★☆☆)\n",
    "hint: np.zeros\n",
    "\n",
    "3. Create a null vector of size 10 but the fifth value which is 1 (★☆☆)\n",
    "hint: array[4]\n",
    "\n",
    "4. Create a vector with values ranging from 10 to 49 (★☆☆)\n",
    "hint: arange\n",
    "\n",
    "5. Create a 3x3 matrix with values ranging from 0 to 8 (★☆☆)\n",
    "hint: reshape\n",
    "\n",
    "6. Find indices of non-zero elements from [1,2,0,0,4,0] (★☆☆)\n",
    "hint: np.nonzero\n",
    "\n",
    "7. Create a 3x3 identity matrix (★☆☆)\n",
    "hint: np.eye\n",
    "\n",
    "8. Create a 3x3x3 array with random values (★☆☆)\n",
    "hint: np.random.random\n",
    "\n",
    "9. Create a 10x10 array with random values and find the minimum and maximum values (★☆☆)\n",
    "hint: min, max\n",
    "\n",
    "10. Create a random vector of size 30 and find the mean value (★☆☆)\n",
    "hint: mean\n",
    "\n",
    "11. Create a 5x5 matrix with values 1,2,3,4 just below the diagonal (★☆☆)\n",
    "hint: np.diag\n",
    "\n",
    "12. Normalize a 5x5 random matrix (★☆☆)\n",
    "hint: (x -mean)/std\n",
    "\n",
    "13. How to find common values between two arrays? (★☆☆)\n",
    "hint: np.intersect1d\n",
    "\n",
    "14. Create a random vector of size 10 and sort it (★★☆)\n",
    "hint: sort\n",
    "\n",
    "15. Create random vector of size 10 and replace the maximum value by 0 (★★☆)\n",
    "hint: argmax\n",
    "\n",
    "16. Subtract the mean of each row of a matrix (★★☆)\n",
    "hint: mean(axis=,keepdims=)\n",
    "\n",
    "17. How to get the n largest values of an array (★★★)\n",
    "Z = np.arange(10000) np.random.shuffle(Z) n = 5 hint: np.argsort | np.argpartition\n",
    "\n",
    "18. Create a random 5*3 matrix and replace items that are larger than 4 by their squares ( Example: 6 --> 36)\n",
    "hint: np.where"
   ]
  },
  {
   "cell_type": "code",
   "execution_count": 1,
   "id": "84c18d9d",
   "metadata": {},
   "outputs": [],
   "source": [
    "#1\n",
    "import numpy as np"
   ]
  },
  {
   "cell_type": "code",
   "execution_count": 2,
   "id": "acde37b6",
   "metadata": {},
   "outputs": [
    {
     "data": {
      "text/plain": [
       "array([0., 0., 0., 0., 0., 0., 0., 0., 0., 0.])"
      ]
     },
     "execution_count": 2,
     "metadata": {},
     "output_type": "execute_result"
    }
   ],
   "source": [
    "#2\n",
    "np.zeros(10)"
   ]
  },
  {
   "cell_type": "code",
   "execution_count": 9,
   "id": "6b0dc2c2",
   "metadata": {},
   "outputs": [
    {
     "name": "stdout",
     "output_type": "stream",
     "text": [
      "[0. 0. 0. 0. 1. 0. 0. 0. 0. 0.]\n"
     ]
    }
   ],
   "source": [
    "#3\n",
    "array = np.zeros(10)\n",
    "array[4] = 1\n",
    "print(array)"
   ]
  },
  {
   "cell_type": "code",
   "execution_count": 10,
   "id": "84ab07d1",
   "metadata": {},
   "outputs": [
    {
     "name": "stdout",
     "output_type": "stream",
     "text": [
      "[10 11 12 13 14 15 16 17 18 19 20 21 22 23 24 25 26 27 28 29 30 31 32 33\n",
      " 34 35 36 37 38 39 40 41 42 43 44 45 46 47 48 49]\n"
     ]
    }
   ],
   "source": [
    "#4\n",
    "print(np.arange(10,50,1))"
   ]
  },
  {
   "cell_type": "code",
   "execution_count": 8,
   "id": "6ca807d9",
   "metadata": {},
   "outputs": [
    {
     "name": "stdout",
     "output_type": "stream",
     "text": [
      "[[0 1 2]\n",
      " [3 4 5]\n",
      " [6 7 8]]\n"
     ]
    }
   ],
   "source": [
    "#5\n",
    "print(np.arange(0,9).reshape(3,3))"
   ]
  },
  {
   "cell_type": "code",
   "execution_count": 13,
   "id": "ac0e6d13",
   "metadata": {},
   "outputs": [
    {
     "name": "stdout",
     "output_type": "stream",
     "text": [
      "(array([0, 1, 4]),)\n"
     ]
    }
   ],
   "source": [
    "#6\n",
    "x = [1,2,0,0,4,0]\n",
    "print(np.nonzero(x))"
   ]
  },
  {
   "cell_type": "code",
   "execution_count": 14,
   "id": "9db9d5b2",
   "metadata": {},
   "outputs": [
    {
     "name": "stdout",
     "output_type": "stream",
     "text": [
      "[[1. 0. 0.]\n",
      " [0. 1. 0.]\n",
      " [0. 0. 1.]]\n"
     ]
    }
   ],
   "source": [
    "#7\n",
    "print(np.eye(3))"
   ]
  },
  {
   "cell_type": "code",
   "execution_count": 15,
   "id": "e0db9232",
   "metadata": {},
   "outputs": [
    {
     "name": "stdout",
     "output_type": "stream",
     "text": [
      "[[[0.64674852 0.79467525 0.26536614]\n",
      "  [0.95864893 0.57494549 0.11789168]\n",
      "  [0.30784184 0.54081671 0.7185054 ]]\n",
      "\n",
      " [[0.21409697 0.17034206 0.93747283]\n",
      "  [0.81893663 0.66351758 0.37367365]\n",
      "  [0.47779255 0.8201928  0.8282764 ]]\n",
      "\n",
      " [[0.10069977 0.41975308 0.48887575]\n",
      "  [0.05760507 0.93948769 0.700647  ]\n",
      "  [0.58384217 0.83823144 0.34893583]]]\n"
     ]
    }
   ],
   "source": [
    "#8\n",
    "print(np.random.random((3,3,3)))"
   ]
  },
  {
   "cell_type": "code",
   "execution_count": 16,
   "id": "eca81547",
   "metadata": {},
   "outputs": [
    {
     "data": {
      "text/plain": [
       "array([[0.69646919, 0.28613933, 0.22685145, 0.55131477, 0.71946897,\n",
       "        0.42310646, 0.9807642 , 0.68482974, 0.4809319 , 0.39211752],\n",
       "       [0.34317802, 0.72904971, 0.43857224, 0.0596779 , 0.39804426,\n",
       "        0.73799541, 0.18249173, 0.17545176, 0.53155137, 0.53182759],\n",
       "       [0.63440096, 0.84943179, 0.72445532, 0.61102351, 0.72244338,\n",
       "        0.32295891, 0.36178866, 0.22826323, 0.29371405, 0.63097612],\n",
       "       [0.09210494, 0.43370117, 0.43086276, 0.4936851 , 0.42583029,\n",
       "        0.31226122, 0.42635131, 0.89338916, 0.94416002, 0.50183668],\n",
       "       [0.62395295, 0.1156184 , 0.31728548, 0.41482621, 0.86630916,\n",
       "        0.25045537, 0.48303426, 0.98555979, 0.51948512, 0.61289453],\n",
       "       [0.12062867, 0.8263408 , 0.60306013, 0.54506801, 0.34276383,\n",
       "        0.30412079, 0.41702221, 0.68130077, 0.87545684, 0.51042234],\n",
       "       [0.66931378, 0.58593655, 0.6249035 , 0.67468905, 0.84234244,\n",
       "        0.08319499, 0.76368284, 0.24366637, 0.19422296, 0.57245696],\n",
       "       [0.09571252, 0.88532683, 0.62724897, 0.72341636, 0.01612921,\n",
       "        0.59443188, 0.55678519, 0.15895964, 0.15307052, 0.69552953],\n",
       "       [0.31876643, 0.6919703 , 0.55438325, 0.38895057, 0.92513249,\n",
       "        0.84167   , 0.35739757, 0.04359146, 0.30476807, 0.39818568],\n",
       "       [0.70495883, 0.99535848, 0.35591487, 0.76254781, 0.59317692,\n",
       "        0.6917018 , 0.15112745, 0.39887629, 0.2408559 , 0.34345601]])"
      ]
     },
     "execution_count": 16,
     "metadata": {},
     "output_type": "execute_result"
    }
   ],
   "source": [
    "#9\n",
    "np.random.seed(123)\n",
    "a = np.random.random((10,10))\n",
    "a"
   ]
  },
  {
   "cell_type": "code",
   "execution_count": 20,
   "id": "b60cc1c2",
   "metadata": {},
   "outputs": [
    {
     "name": "stdout",
     "output_type": "stream",
     "text": [
      "0.01612920669501683\n",
      "0.9953584820340174\n"
     ]
    }
   ],
   "source": [
    "print(np.min(a))\n",
    "print(np.max(a))"
   ]
  },
  {
   "cell_type": "code",
   "execution_count": 22,
   "id": "cddf826f",
   "metadata": {},
   "outputs": [
    {
     "data": {
      "text/plain": [
       "0.4983096481504978"
      ]
     },
     "execution_count": 22,
     "metadata": {},
     "output_type": "execute_result"
    }
   ],
   "source": [
    "#10\n",
    "np.random.seed(123)\n",
    "a = np.random.random(30)\n",
    "np.mean(a)"
   ]
  },
  {
   "cell_type": "code",
   "execution_count": 23,
   "id": "fea90b40",
   "metadata": {},
   "outputs": [
    {
     "name": "stdout",
     "output_type": "stream",
     "text": [
      "[[0 0 0 0 0 0]\n",
      " [0 0 0 0 0 0]\n",
      " [0 1 0 0 0 0]\n",
      " [0 0 2 0 0 0]\n",
      " [0 0 0 3 0 0]\n",
      " [0 0 0 0 4 0]]\n"
     ]
    }
   ],
   "source": [
    "#11\n",
    "x = np.diag(np.arange(5),k=-1)\n",
    "print(x)"
   ]
  },
  {
   "cell_type": "code",
   "execution_count": 24,
   "id": "c59a93aa",
   "metadata": {},
   "outputs": [
    {
     "name": "stdout",
     "output_type": "stream",
     "text": [
      "[[-0.14006872 -0.8617549  -0.25561937 -2.79858911 -1.7715331 ]\n",
      " [-0.69987723  0.92746243 -0.17363568  0.00284592  0.68822271]\n",
      " [-0.87953634  0.28362732 -0.80536652 -1.72766949 -0.39089979]\n",
      " [ 0.57380586  0.33858905 -0.01183049  2.39236527  0.41291216]\n",
      " [ 0.97873601  2.23814334 -1.29408532 -1.03878821  1.74371223]]\n"
     ]
    }
   ],
   "source": [
    "#12 Normalize a 5x5 random matrix\n",
    "x = np.random.normal(0, 1, (5, 5))\n",
    "print(x)"
   ]
  },
  {
   "cell_type": "code",
   "execution_count": 26,
   "id": "bb4cc4e0",
   "metadata": {},
   "outputs": [
    {
     "name": "stdout",
     "output_type": "stream",
     "text": [
      "[6 7]\n"
     ]
    }
   ],
   "source": [
    "#13. How to find common values between two arrays?\n",
    "x = np.arange(3,8)\n",
    "y = np.arange(6,9)\n",
    "print(np.intersect1d(x,y))"
   ]
  },
  {
   "cell_type": "code",
   "execution_count": 28,
   "id": "f5147a4a",
   "metadata": {},
   "outputs": [
    {
     "name": "stdout",
     "output_type": "stream",
     "text": [
      "[0.2268514535642031, 0.28613933495037946, 0.3921175181941505, 0.42310646012446096, 0.48093190148436094, 0.5513147690828912, 0.6848297385848633, 0.6964691855978616, 0.7194689697855631, 0.9807641983846155]\n"
     ]
    }
   ],
   "source": [
    "#14. Create a random vector of size 10 and sort it\n",
    "np.random.seed(123)\n",
    "a = list(np.random.random(10))\n",
    "a.sort()\n",
    "print(a)"
   ]
  },
  {
   "cell_type": "code",
   "execution_count": 33,
   "id": "8b3f2c24",
   "metadata": {},
   "outputs": [
    {
     "data": {
      "text/plain": [
       "[0.6964691855978616,\n",
       " 0.28613933495037946,\n",
       " 0.2268514535642031,\n",
       " 0.5513147690828912,\n",
       " 0.7194689697855631,\n",
       " 0.42310646012446096,\n",
       " 0,\n",
       " 0.6848297385848633,\n",
       " 0.48093190148436094,\n",
       " 0.3921175181941505]"
      ]
     },
     "execution_count": 33,
     "metadata": {},
     "output_type": "execute_result"
    }
   ],
   "source": [
    "#15 Create random vector of size 10 and replace the maximum value by 0\n",
    "np.random.seed(123)\n",
    "x = np.random.random(10)\n",
    "x = list(x)\n",
    "i = np.argmax(x)\n",
    "x = x[:i]+[0]+x[i+1:]\n",
    "x"
   ]
  },
  {
   "cell_type": "code",
   "execution_count": 34,
   "id": "cab22caf",
   "metadata": {},
   "outputs": [
    {
     "name": "stdout",
     "output_type": "stream",
     "text": [
      "[[0.34317802 0.72904971 0.43857224 0.0596779 ]\n",
      " [0.39804426 0.73799541 0.18249173 0.17545176]\n",
      " [0.53155137 0.53182759 0.63440096 0.84943179]]\n"
     ]
    },
    {
     "data": {
      "text/plain": [
       "array([[0.39261947],\n",
       "       [0.37349579],\n",
       "       [0.63680293]])"
      ]
     },
     "execution_count": 34,
     "metadata": {},
     "output_type": "execute_result"
    }
   ],
   "source": [
    "#16. Subtract the mean of each row of a matrix \n",
    "a = np.random.rand(3, 4)\n",
    "print(a)\n",
    "a.mean(axis=1, keepdims=True)"
   ]
  },
  {
   "cell_type": "code",
   "execution_count": 35,
   "id": "74e33e46",
   "metadata": {},
   "outputs": [
    {
     "data": {
      "text/plain": [
       "array([[  0,   1,   2],\n",
       "       [  3,  16,  25],\n",
       "       [ 36,  49,  64],\n",
       "       [ 81, 100, 121],\n",
       "       [144, 169, 196]])"
      ]
     },
     "execution_count": 35,
     "metadata": {},
     "output_type": "execute_result"
    }
   ],
   "source": [
    "#18. Create a random 5*3 matrix and replace items that are larger than 4 by their squares\n",
    "\n",
    "a = np.arange(15).reshape(5,3)\n",
    "a\n",
    "np.where(a < 4, a, a**2)"
   ]
  },
  {
   "cell_type": "code",
   "execution_count": 36,
   "id": "0e5d6c3c",
   "metadata": {},
   "outputs": [
    {
     "data": {
      "text/plain": [
       "array([[  0,   1,   2],\n",
       "       [  3,  16,  25],\n",
       "       [ 36,  49,  64],\n",
       "       [ 81, 100, 121],\n",
       "       [144, 169, 196]])"
      ]
     },
     "execution_count": 36,
     "metadata": {},
     "output_type": "execute_result"
    }
   ],
   "source": [
    "#17. How to get the n largest values of an array (★★★)\n",
    "a = np.arange(15).reshape(5,3)\n",
    "a\n",
    "np.where(a < 4, a, a**2)"
   ]
  },
  {
   "cell_type": "code",
   "execution_count": null,
   "id": "dcf52c0a",
   "metadata": {},
   "outputs": [],
   "source": []
  }
 ],
 "metadata": {
  "kernelspec": {
   "display_name": "Python 3 (ipykernel)",
   "language": "python",
   "name": "python3"
  },
  "language_info": {
   "codemirror_mode": {
    "name": "ipython",
    "version": 3
   },
   "file_extension": ".py",
   "mimetype": "text/x-python",
   "name": "python",
   "nbconvert_exporter": "python",
   "pygments_lexer": "ipython3",
   "version": "3.9.12"
  }
 },
 "nbformat": 4,
 "nbformat_minor": 5
}
