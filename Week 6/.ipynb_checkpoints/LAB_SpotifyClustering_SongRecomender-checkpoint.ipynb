{
 "cells": [
  {
   "cell_type": "markdown",
   "id": "34396a41",
   "metadata": {},
   "source": [
    "1- load the pandas data frame songs of the audio features (minimum 500 songs as diverse as possible)) </br>\n",
    "2-  standardise the data using standardscaler </br>\n",
    "3- save the scaler for future use for the new user input song. save it using pickle </br>\n",
    "4- choosing the number of clusters k. </br>\n",
    "5- fitting  k means cluster. </br>\n",
    "6- build the elbow graph to find the best k. </br>\n",
    "7- use the model with the best k to assign every observation in your data frame to its cluster number ( adding cluster columns to the pandas data frame) using model.predict </br>\n",
    "8-save the model with the best k as your final model  using pickle. \n",
    "for the user input tasks and  the full scenario: </br></br>\n",
    "\n",
    "1- get the song name from the user as an input </br>\n",
    "2- play the input song in music embed player. </br>\n",
    "3- get the audio features for that song from spotify API. using sp.audio_features(trackid) . pay attention to keep  only the audio features columns. </br>\n",
    "4- load the stabdardscaler using pickle and use it to scale the new song. </br>\n",
    "5- using mode.predict(new scaled audio record for the new song) to predict the cluster (label) for the new song. </br>\n",
    "6- return random song from the same cluster   that the new song belongs to from your data frame and suggest it to the user. </br>\n",
    "7-  play it using embedded music player. </br>"
   ]
  },
  {
   "cell_type": "markdown",
   "id": "95d564c4",
   "metadata": {},
   "source": [
    "---------------------------------------------"
   ]
  },
  {
   "cell_type": "code",
   "execution_count": 178,
   "id": "15cf38a5",
   "metadata": {},
   "outputs": [],
   "source": [
    "import numpy as np\n",
    "import pandas as pd\n",
    "import pickle\n",
    "from sklearn import datasets # sklearn comes with some toy datasets to practise\n",
    "from sklearn.preprocessing import StandardScaler\n",
    "from sklearn.cluster import KMeans\n",
    "from matplotlib import pyplot\n",
    "from sklearn.metrics import silhouette_score\n",
    "import matplotlib.pyplot as plt\n",
    "%matplotlib inline\n",
    "from IPython.display import IFrame"
   ]
  },
  {
   "cell_type": "code",
   "execution_count": 51,
   "id": "3a75764d",
   "metadata": {},
   "outputs": [],
   "source": [
    "#get into the API\n",
    "\n",
    "import config\n",
    "import spotipy\n",
    "import json\n",
    "from spotipy.oauth2 import SpotifyClientCredentials\n",
    "import pandas as pd\n",
    "\n",
    "sp = spotipy.Spotify(auth_manager=SpotifyClientCredentials(client_id= config.client_id,\n",
    "                                                           client_secret= config.client_secret))"
   ]
  },
  {
   "cell_type": "markdown",
   "id": "ab0d90ec",
   "metadata": {},
   "source": [
    "**1- load the pandas data frame songs of the audio features (minimum 500 songs as diverse as possible))**"
   ]
  },
  {
   "cell_type": "code",
   "execution_count": 19,
   "id": "2e4be9f9",
   "metadata": {},
   "outputs": [
    {
     "data": {
      "text/html": [
       "<div>\n",
       "<style scoped>\n",
       "    .dataframe tbody tr th:only-of-type {\n",
       "        vertical-align: middle;\n",
       "    }\n",
       "\n",
       "    .dataframe tbody tr th {\n",
       "        vertical-align: top;\n",
       "    }\n",
       "\n",
       "    .dataframe thead th {\n",
       "        text-align: right;\n",
       "    }\n",
       "</style>\n",
       "<table border=\"1\" class=\"dataframe\">\n",
       "  <thead>\n",
       "    <tr style=\"text-align: right;\">\n",
       "      <th></th>\n",
       "      <th>Unnamed: 0</th>\n",
       "      <th>danceability</th>\n",
       "      <th>energy</th>\n",
       "      <th>loudness</th>\n",
       "      <th>speechiness</th>\n",
       "      <th>acousticness</th>\n",
       "      <th>instrumentalness</th>\n",
       "      <th>liveness</th>\n",
       "      <th>valence</th>\n",
       "      <th>tempo</th>\n",
       "      <th>id</th>\n",
       "      <th>duration_ms</th>\n",
       "    </tr>\n",
       "  </thead>\n",
       "  <tbody>\n",
       "    <tr>\n",
       "      <th>0</th>\n",
       "      <td>0</td>\n",
       "      <td>0.613</td>\n",
       "      <td>0.764</td>\n",
       "      <td>-6.509</td>\n",
       "      <td>0.1360</td>\n",
       "      <td>0.0527</td>\n",
       "      <td>0.0</td>\n",
       "      <td>0.1970</td>\n",
       "      <td>0.417</td>\n",
       "      <td>160.015</td>\n",
       "      <td>2yLa0QULdQr0qAIvVwN6B5</td>\n",
       "      <td>208187</td>\n",
       "    </tr>\n",
       "    <tr>\n",
       "      <th>1</th>\n",
       "      <td>1</td>\n",
       "      <td>0.623</td>\n",
       "      <td>0.449</td>\n",
       "      <td>-13.333</td>\n",
       "      <td>0.0253</td>\n",
       "      <td>0.2120</td>\n",
       "      <td>0.0</td>\n",
       "      <td>0.0613</td>\n",
       "      <td>0.572</td>\n",
       "      <td>84.383</td>\n",
       "      <td>5tVA6TkbaAH9QMITTQRrNv</td>\n",
       "      <td>256000</td>\n",
       "    </tr>\n",
       "  </tbody>\n",
       "</table>\n",
       "</div>"
      ],
      "text/plain": [
       "   Unnamed: 0  danceability  energy  loudness  speechiness  acousticness  \\\n",
       "0           0         0.613   0.764    -6.509       0.1360        0.0527   \n",
       "1           1         0.623   0.449   -13.333       0.0253        0.2120   \n",
       "\n",
       "   instrumentalness  liveness  valence    tempo                      id  \\\n",
       "0               0.0    0.1970    0.417  160.015  2yLa0QULdQr0qAIvVwN6B5   \n",
       "1               0.0    0.0613    0.572   84.383  5tVA6TkbaAH9QMITTQRrNv   \n",
       "\n",
       "   duration_ms  \n",
       "0       208187  \n",
       "1       256000  "
      ]
     },
     "execution_count": 19,
     "metadata": {},
     "output_type": "execute_result"
    }
   ],
   "source": [
    "df = pd.read_csv('Data/spotifysongs2.csv')\n",
    "df.head(2) #417 songs, try with a bigger one at some points"
   ]
  },
  {
   "cell_type": "code",
   "execution_count": 25,
   "id": "2821e66b",
   "metadata": {},
   "outputs": [],
   "source": [
    "df = df.drop(columns='Unnamed: 0', axis=1)\n",
    "df = df.drop(columns='id', axis=1)\n",
    "#no need of having this column and we want all of them with numberic values in order to standarize it later."
   ]
  },
  {
   "cell_type": "code",
   "execution_count": 168,
   "id": "19962ace",
   "metadata": {},
   "outputs": [
    {
     "data": {
      "text/html": [
       "<div>\n",
       "<style scoped>\n",
       "    .dataframe tbody tr th:only-of-type {\n",
       "        vertical-align: middle;\n",
       "    }\n",
       "\n",
       "    .dataframe tbody tr th {\n",
       "        vertical-align: top;\n",
       "    }\n",
       "\n",
       "    .dataframe thead th {\n",
       "        text-align: right;\n",
       "    }\n",
       "</style>\n",
       "<table border=\"1\" class=\"dataframe\">\n",
       "  <thead>\n",
       "    <tr style=\"text-align: right;\">\n",
       "      <th></th>\n",
       "      <th>id</th>\n",
       "    </tr>\n",
       "  </thead>\n",
       "  <tbody>\n",
       "    <tr>\n",
       "      <th>0</th>\n",
       "      <td>2yLa0QULdQr0qAIvVwN6B5</td>\n",
       "    </tr>\n",
       "  </tbody>\n",
       "</table>\n",
       "</div>"
      ],
      "text/plain": [
       "                       id\n",
       "0  2yLa0QULdQr0qAIvVwN6B5"
      ]
     },
     "execution_count": 168,
     "metadata": {},
     "output_type": "execute_result"
    }
   ],
   "source": [
    "#create a data frame in order to concatenate with the rest of the df\n",
    "df_ = pd.read_csv('Data/spotifysongs2.csv')\n",
    "df_id = df_.drop(columns=['Unnamed: 0', 'danceability', 'energy', 'loudness', 'speechiness',\n",
    "       'acousticness', 'instrumentalness', 'liveness', 'valence', 'tempo', 'duration_ms'], axis=1)\n",
    "df_id.head(1)"
   ]
  },
  {
   "cell_type": "markdown",
   "id": "719a3c72",
   "metadata": {},
   "source": [
    "**2- Standardise the data using standardscaler**"
   ]
  },
  {
   "cell_type": "code",
   "execution_count": 26,
   "id": "3567224b",
   "metadata": {},
   "outputs": [
    {
     "data": {
      "text/plain": [
       "array([[ 0.37104792,  0.4799394 ,  0.25057757, ..., -0.13048292,\n",
       "         1.33425156, -0.19828911],\n",
       "       [ 0.42724157, -0.89161654, -1.27382528, ...,  0.47471613,\n",
       "        -1.21602239, -0.0891696 ],\n",
       "       [ 0.23056378,  0.59750133,  0.45475462, ...,  0.14283278,\n",
       "        -0.86028156, -0.14622496],\n",
       "       ...,\n",
       "       [-0.6853928 ,  1.10693639, -4.54557266, ..., -1.64543279,\n",
       "        -0.27696777,  4.80434968],\n",
       "       [-2.04527926,  0.88052081, -4.14436698, ..., -1.65597496,\n",
       "        -1.60002016,  0.99586125],\n",
       "       [-0.97198044, -1.20076089, -1.80280915, ..., -1.40413407,\n",
       "        -0.68298438,  0.87889092]])"
      ]
     },
     "execution_count": 26,
     "metadata": {},
     "output_type": "execute_result"
    }
   ],
   "source": [
    "scaler = StandardScaler()\n",
    "scaler.fit(df)\n",
    "df_scaled = scaler.transform(df)\n",
    "df_scaled"
   ]
  },
  {
   "cell_type": "markdown",
   "id": "3dd15e49",
   "metadata": {},
   "source": [
    "**3- Save the scaler for future use for the new user input song. save it using pickle**"
   ]
  },
  {
   "cell_type": "code",
   "execution_count": 28,
   "id": "3ca11dc5",
   "metadata": {},
   "outputs": [],
   "source": [
    "#formula to save models\n",
    "with open(\"Model/scalerSpotifytracks.pickle\", \"wb\") as f:\n",
    "    pickle.dump(scaler,f)"
   ]
  },
  {
   "cell_type": "markdown",
   "id": "8dc73443",
   "metadata": {},
   "source": [
    "**4- choosing the number of clusters k.**"
   ]
  },
  {
   "cell_type": "code",
   "execution_count": 31,
   "id": "c1c1a8bc",
   "metadata": {},
   "outputs": [
    {
     "data": {
      "image/png": "[encoded data removed]",
      "text/plain": [
       "<Figure size 432x288 with 1 Axes>"
      ]
     },
     "metadata": {
      "needs_background": "light"
     },
     "output_type": "display_data"
    }
   ],
   "source": [
    "#we will divide in s5 clusters.\n",
    "kmeans = KMeans(n_clusters=5, random_state=1234)\n",
    "kmeans.fit(df_scaled)\n",
    "\n",
    "labels = kmeans.predict(df_scaled)\n",
    "clusters = np.unique(labels)\n",
    "\n",
    "for cluster in clusters:\n",
    "    row_ix = np.where(labels == cluster)\n",
    "    pyplot.scatter(df.to_numpy()[row_ix, 0], df.to_numpy()[row_ix,1])\n",
    "    pyplot.xlabel(\"energy\")\n",
    "    pyplot.ylabel(\"instrumentalness\")\n",
    "    \n",
    "pyplot.show()"
   ]
  },
  {
   "cell_type": "markdown",
   "id": "fd1784b9",
   "metadata": {},
   "source": [
    "**6- build the elbow graph to find the best k**"
   ]
  },
  {
   "cell_type": "code",
   "execution_count": 37,
   "id": "467ab98d",
   "metadata": {},
   "outputs": [
    {
     "name": "stdout",
     "output_type": "stream",
     "text": [
      "Training a K-Means model with 2 clusters! \n",
      "\n",
      "Training a K-Means model with 3 clusters! \n",
      "\n",
      "Training a K-Means model with 4 clusters! \n",
      "\n",
      "Training a K-Means model with 5 clusters! \n",
      "\n",
      "Training a K-Means model with 6 clusters! \n",
      "\n",
      "Training a K-Means model with 7 clusters! \n",
      "\n",
      "Training a K-Means model with 8 clusters! \n",
      "\n",
      "Training a K-Means model with 9 clusters! \n",
      "\n",
      "Training a K-Means model with 10 clusters! \n",
      "\n",
      "Training a K-Means model with 11 clusters! \n",
      "\n",
      "Training a K-Means model with 12 clusters! \n",
      "\n",
      "Training a K-Means model with 13 clusters! \n",
      "\n",
      "Training a K-Means model with 14 clusters! \n",
      "\n",
      "Training a K-Means model with 15 clusters! \n",
      "\n",
      "Training a K-Means model with 16 clusters! \n",
      "\n",
      "Training a K-Means model with 17 clusters! \n",
      "\n",
      "Training a K-Means model with 18 clusters! \n",
      "\n",
      "Training a K-Means model with 19 clusters! \n",
      "\n",
      "Training a K-Means model with 20 clusters! \n",
      "\n"
     ]
    },
    {
     "data": {
      "text/plain": [
       "Text(0.5, 1.0, 'Elbow Method showing the optimal k')"
      ]
     },
     "execution_count": 37,
     "metadata": {},
     "output_type": "execute_result"
    },
    {
     "data": {
      "image/png": "[encoded data removed]",
      "text/plain": [
       "<Figure size 1152x576 with 1 Axes>"
      ]
     },
     "metadata": {
      "needs_background": "light"
     },
     "output_type": "display_data"
    }
   ],
   "source": [
    "K = range(2, 21)\n",
    "inertia = []\n",
    "\n",
    "for k in K:\n",
    "    print(\"Training a K-Means model with {} clusters! \".format(k))\n",
    "    print()\n",
    "    kmeans = KMeans(n_clusters=k,\n",
    "                    random_state=1234)\n",
    "    kmeans.fit(df_scaled)\n",
    "    inertia.append(kmeans.inertia_)\n",
    "    \n",
    "plt.figure(figsize=(16,8))\n",
    "plt.plot(K, inertia, 'bx-')\n",
    "plt.xlabel('k')\n",
    "plt.ylabel('inertia')\n",
    "plt.xticks(np.arange(min(K), max(K)+1, 1.0))\n",
    "plt.title('Elbow Method showing the optimal k')"
   ]
  },
  {
   "cell_type": "markdown",
   "id": "d91b8602",
   "metadata": {},
   "source": [
    "**Sillouethe**"
   ]
  },
  {
   "cell_type": "code",
   "execution_count": 38,
   "id": "aa45bdef",
   "metadata": {},
   "outputs": [
    {
     "data": {
      "text/plain": [
       "Text(0.5, 1.0, 'Silhouette Method showing the optimal k')"
      ]
     },
     "execution_count": 38,
     "metadata": {},
     "output_type": "execute_result"
    },
    {
     "data": {
      "image/png": "[encoded data removed]",
      "text/plain": [
       "<Figure size 1152x576 with 1 Axes>"
      ]
     },
     "metadata": {
      "needs_background": "light"
     },
     "output_type": "display_data"
    }
   ],
   "source": [
    "K = range(2, 21)\n",
    "silhouette = []\n",
    "\n",
    "for k in K:\n",
    "    kmeans = KMeans(n_clusters=k,\n",
    "                    random_state=1234)\n",
    "    kmeans.fit(df_scaled)\n",
    "    \n",
    "    filename = \"Model/kmeans_\" + str(k) + \".pickle\"\n",
    "    with open(filename, \"wb\") as f:\n",
    "        pickle.dump(kmeans,f)\n",
    "    \n",
    "    silhouette.append(silhouette_score(df_scaled, kmeans.predict(df_scaled)))\n",
    "\n",
    "\n",
    "plt.figure(figsize=(16,8))\n",
    "plt.plot(K, silhouette, 'bx-')\n",
    "plt.xlabel('k')\n",
    "plt.ylabel('silhouette score')\n",
    "plt.xticks(np.arange(min(K), max(K)+1, 1.0))\n",
    "plt.title('Silhouette Method showing the optimal k')"
   ]
  },
  {
   "cell_type": "markdown",
   "id": "2aa0106a",
   "metadata": {},
   "source": [
    "We can say that **3 clusters** would be apparently the best amount"
   ]
  },
  {
   "cell_type": "markdown",
   "id": "28e75f93",
   "metadata": {},
   "source": [
    "**7- use the model with the best k to assign every observation in your data frame to its cluster number ( adding cluster columns to the pandas data frame) using model.predict**"
   ]
  },
  {
   "cell_type": "code",
   "execution_count": 39,
   "id": "a7c207cd",
   "metadata": {},
   "outputs": [
    {
     "data": {
      "image/png": "[encoded data removed]",
      "text/plain": [
       "<Figure size 432x288 with 1 Axes>"
      ]
     },
     "metadata": {
      "needs_background": "light"
     },
     "output_type": "display_data"
    }
   ],
   "source": [
    "kmeans = KMeans(n_clusters=3, random_state=1234)\n",
    "kmeans.fit(df_scaled)\n",
    "\n",
    "labels = kmeans.predict(df_scaled)\n",
    "clusters = np.unique(labels)\n",
    "\n",
    "for cluster in clusters:\n",
    "    row_ix = np.where(labels == cluster)\n",
    "    pyplot.scatter(df.to_numpy()[row_ix, 0], df.to_numpy()[row_ix,1])\n",
    "    pyplot.xlabel(\"energy\")\n",
    "    pyplot.ylabel(\"instrumentalness\")\n",
    "    \n",
    "pyplot.show()"
   ]
  },
  {
   "cell_type": "code",
   "execution_count": 40,
   "id": "4f8a0232",
   "metadata": {},
   "outputs": [
    {
     "data": {
      "text/plain": [
       "0    316\n",
       "1     94\n",
       "2      7\n",
       "dtype: int64"
      ]
     },
     "execution_count": 40,
     "metadata": {},
     "output_type": "execute_result"
    }
   ],
   "source": [
    "clusters = kmeans.predict(df_scaled)\n",
    "#clusters\n",
    "pd.Series(clusters).value_counts().sort_index()"
   ]
  },
  {
   "cell_type": "code",
   "execution_count": 41,
   "id": "399379e5",
   "metadata": {},
   "outputs": [
    {
     "data": {
      "text/html": [
       "<div>\n",
       "<style scoped>\n",
       "    .dataframe tbody tr th:only-of-type {\n",
       "        vertical-align: middle;\n",
       "    }\n",
       "\n",
       "    .dataframe tbody tr th {\n",
       "        vertical-align: top;\n",
       "    }\n",
       "\n",
       "    .dataframe thead th {\n",
       "        text-align: right;\n",
       "    }\n",
       "</style>\n",
       "<table border=\"1\" class=\"dataframe\">\n",
       "  <thead>\n",
       "    <tr style=\"text-align: right;\">\n",
       "      <th></th>\n",
       "      <th>danceability</th>\n",
       "      <th>energy</th>\n",
       "      <th>loudness</th>\n",
       "      <th>speechiness</th>\n",
       "      <th>acousticness</th>\n",
       "      <th>instrumentalness</th>\n",
       "      <th>liveness</th>\n",
       "      <th>valence</th>\n",
       "      <th>tempo</th>\n",
       "      <th>duration_ms</th>\n",
       "      <th>cluster</th>\n",
       "    </tr>\n",
       "  </thead>\n",
       "  <tbody>\n",
       "    <tr>\n",
       "      <th>0</th>\n",
       "      <td>0.6130</td>\n",
       "      <td>0.76400</td>\n",
       "      <td>-6.509</td>\n",
       "      <td>0.1360</td>\n",
       "      <td>0.05270</td>\n",
       "      <td>0.00000</td>\n",
       "      <td>0.1970</td>\n",
       "      <td>0.4170</td>\n",
       "      <td>160.015</td>\n",
       "      <td>208187</td>\n",
       "      <td>0</td>\n",
       "    </tr>\n",
       "    <tr>\n",
       "      <th>1</th>\n",
       "      <td>0.6230</td>\n",
       "      <td>0.44900</td>\n",
       "      <td>-13.333</td>\n",
       "      <td>0.0253</td>\n",
       "      <td>0.21200</td>\n",
       "      <td>0.00000</td>\n",
       "      <td>0.0613</td>\n",
       "      <td>0.5720</td>\n",
       "      <td>84.383</td>\n",
       "      <td>256000</td>\n",
       "      <td>1</td>\n",
       "    </tr>\n",
       "    <tr>\n",
       "      <th>2</th>\n",
       "      <td>0.5880</td>\n",
       "      <td>0.79100</td>\n",
       "      <td>-5.595</td>\n",
       "      <td>0.0402</td>\n",
       "      <td>0.00245</td>\n",
       "      <td>0.00258</td>\n",
       "      <td>0.1180</td>\n",
       "      <td>0.4870</td>\n",
       "      <td>94.933</td>\n",
       "      <td>231000</td>\n",
       "      <td>0</td>\n",
       "    </tr>\n",
       "    <tr>\n",
       "      <th>3</th>\n",
       "      <td>0.8460</td>\n",
       "      <td>0.71100</td>\n",
       "      <td>-7.939</td>\n",
       "      <td>0.0610</td>\n",
       "      <td>0.49600</td>\n",
       "      <td>0.00000</td>\n",
       "      <td>0.2470</td>\n",
       "      <td>0.8830</td>\n",
       "      <td>120.013</td>\n",
       "      <td>197840</td>\n",
       "      <td>0</td>\n",
       "    </tr>\n",
       "    <tr>\n",
       "      <th>4</th>\n",
       "      <td>0.7510</td>\n",
       "      <td>0.78300</td>\n",
       "      <td>-3.724</td>\n",
       "      <td>0.0859</td>\n",
       "      <td>0.00379</td>\n",
       "      <td>0.00000</td>\n",
       "      <td>0.0360</td>\n",
       "      <td>0.8160</td>\n",
       "      <td>119.975</td>\n",
       "      <td>202613</td>\n",
       "      <td>0</td>\n",
       "    </tr>\n",
       "    <tr>\n",
       "      <th>...</th>\n",
       "      <td>...</td>\n",
       "      <td>...</td>\n",
       "      <td>...</td>\n",
       "      <td>...</td>\n",
       "      <td>...</td>\n",
       "      <td>...</td>\n",
       "      <td>...</td>\n",
       "      <td>...</td>\n",
       "      <td>...</td>\n",
       "      <td>...</td>\n",
       "      <td>...</td>\n",
       "    </tr>\n",
       "    <tr>\n",
       "      <th>412</th>\n",
       "      <td>0.1760</td>\n",
       "      <td>0.00938</td>\n",
       "      <td>-34.096</td>\n",
       "      <td>0.0674</td>\n",
       "      <td>0.78700</td>\n",
       "      <td>0.54700</td>\n",
       "      <td>0.1060</td>\n",
       "      <td>0.0345</td>\n",
       "      <td>119.369</td>\n",
       "      <td>1200000</td>\n",
       "      <td>1</td>\n",
       "    </tr>\n",
       "    <tr>\n",
       "      <th>413</th>\n",
       "      <td>0.0844</td>\n",
       "      <td>0.12400</td>\n",
       "      <td>-17.782</td>\n",
       "      <td>0.0436</td>\n",
       "      <td>0.78400</td>\n",
       "      <td>0.85400</td>\n",
       "      <td>0.3260</td>\n",
       "      <td>0.0377</td>\n",
       "      <td>84.124</td>\n",
       "      <td>973120</td>\n",
       "      <td>1</td>\n",
       "    </tr>\n",
       "    <tr>\n",
       "      <th>414</th>\n",
       "      <td>0.4250</td>\n",
       "      <td>0.90800</td>\n",
       "      <td>-27.979</td>\n",
       "      <td>0.7280</td>\n",
       "      <td>0.95000</td>\n",
       "      <td>0.41100</td>\n",
       "      <td>0.0995</td>\n",
       "      <td>0.0290</td>\n",
       "      <td>112.232</td>\n",
       "      <td>2400198</td>\n",
       "      <td>2</td>\n",
       "    </tr>\n",
       "    <tr>\n",
       "      <th>415</th>\n",
       "      <td>0.1830</td>\n",
       "      <td>0.85600</td>\n",
       "      <td>-26.183</td>\n",
       "      <td>0.6650</td>\n",
       "      <td>0.94400</td>\n",
       "      <td>0.81000</td>\n",
       "      <td>0.9160</td>\n",
       "      <td>0.0263</td>\n",
       "      <td>72.995</td>\n",
       "      <td>731429</td>\n",
       "      <td>2</td>\n",
       "    </tr>\n",
       "    <tr>\n",
       "      <th>416</th>\n",
       "      <td>0.3740</td>\n",
       "      <td>0.37800</td>\n",
       "      <td>-15.701</td>\n",
       "      <td>0.0584</td>\n",
       "      <td>0.54200</td>\n",
       "      <td>0.80500</td>\n",
       "      <td>0.0929</td>\n",
       "      <td>0.0908</td>\n",
       "      <td>100.191</td>\n",
       "      <td>680176</td>\n",
       "      <td>1</td>\n",
       "    </tr>\n",
       "  </tbody>\n",
       "</table>\n",
       "<p>417 rows × 11 columns</p>\n",
       "</div>"
      ],
      "text/plain": [
       "     danceability   energy  loudness  speechiness  acousticness  \\\n",
       "0          0.6130  0.76400    -6.509       0.1360       0.05270   \n",
       "1          0.6230  0.44900   -13.333       0.0253       0.21200   \n",
       "2          0.5880  0.79100    -5.595       0.0402       0.00245   \n",
       "3          0.8460  0.71100    -7.939       0.0610       0.49600   \n",
       "4          0.7510  0.78300    -3.724       0.0859       0.00379   \n",
       "..            ...      ...       ...          ...           ...   \n",
       "412        0.1760  0.00938   -34.096       0.0674       0.78700   \n",
       "413        0.0844  0.12400   -17.782       0.0436       0.78400   \n",
       "414        0.4250  0.90800   -27.979       0.7280       0.95000   \n",
       "415        0.1830  0.85600   -26.183       0.6650       0.94400   \n",
       "416        0.3740  0.37800   -15.701       0.0584       0.54200   \n",
       "\n",
       "     instrumentalness  liveness  valence    tempo  duration_ms  cluster  \n",
       "0             0.00000    0.1970   0.4170  160.015       208187        0  \n",
       "1             0.00000    0.0613   0.5720   84.383       256000        1  \n",
       "2             0.00258    0.1180   0.4870   94.933       231000        0  \n",
       "3             0.00000    0.2470   0.8830  120.013       197840        0  \n",
       "4             0.00000    0.0360   0.8160  119.975       202613        0  \n",
       "..                ...       ...      ...      ...          ...      ...  \n",
       "412           0.54700    0.1060   0.0345  119.369      1200000        1  \n",
       "413           0.85400    0.3260   0.0377   84.124       973120        1  \n",
       "414           0.41100    0.0995   0.0290  112.232      2400198        2  \n",
       "415           0.81000    0.9160   0.0263   72.995       731429        2  \n",
       "416           0.80500    0.0929   0.0908  100.191       680176        1  \n",
       "\n",
       "[417 rows x 11 columns]"
      ]
     },
     "execution_count": 41,
     "metadata": {},
     "output_type": "execute_result"
    }
   ],
   "source": [
    "df[\"cluster\"] = clusters\n",
    "df"
   ]
  },
  {
   "cell_type": "code",
   "execution_count": 169,
   "id": "4fdb8fbc",
   "metadata": {},
   "outputs": [
    {
     "data": {
      "text/html": [
       "<div>\n",
       "<style scoped>\n",
       "    .dataframe tbody tr th:only-of-type {\n",
       "        vertical-align: middle;\n",
       "    }\n",
       "\n",
       "    .dataframe tbody tr th {\n",
       "        vertical-align: top;\n",
       "    }\n",
       "\n",
       "    .dataframe thead th {\n",
       "        text-align: right;\n",
       "    }\n",
       "</style>\n",
       "<table border=\"1\" class=\"dataframe\">\n",
       "  <thead>\n",
       "    <tr style=\"text-align: right;\">\n",
       "      <th></th>\n",
       "      <th>id</th>\n",
       "    </tr>\n",
       "  </thead>\n",
       "  <tbody>\n",
       "    <tr>\n",
       "      <th>0</th>\n",
       "      <td>2yLa0QULdQr0qAIvVwN6B5</td>\n",
       "    </tr>\n",
       "    <tr>\n",
       "      <th>1</th>\n",
       "      <td>5tVA6TkbaAH9QMITTQRrNv</td>\n",
       "    </tr>\n",
       "    <tr>\n",
       "      <th>2</th>\n",
       "      <td>0ug5NqcwcFR2xrfTkc7k8e</td>\n",
       "    </tr>\n",
       "  </tbody>\n",
       "</table>\n",
       "</div>"
      ],
      "text/plain": [
       "                       id\n",
       "0  2yLa0QULdQr0qAIvVwN6B5\n",
       "1  5tVA6TkbaAH9QMITTQRrNv\n",
       "2  0ug5NqcwcFR2xrfTkc7k8e"
      ]
     },
     "execution_count": 169,
     "metadata": {},
     "output_type": "execute_result"
    }
   ],
   "source": [
    "df_.head(3)"
   ]
  },
  {
   "cell_type": "code",
   "execution_count": null,
   "id": "c6145814",
   "metadata": {},
   "outputs": [],
   "source": [
    "result = pd.concat([df1, df3], axis=1, join='inner')"
   ]
  },
  {
   "cell_type": "markdown",
   "id": "28e416dc",
   "metadata": {},
   "source": [
    "**1- get the song name from the user as an input**"
   ]
  },
  {
   "cell_type": "code",
   "execution_count": 42,
   "id": "54a061c5",
   "metadata": {},
   "outputs": [
    {
     "data": {
      "text/html": [
       "<div>\n",
       "<style scoped>\n",
       "    .dataframe tbody tr th:only-of-type {\n",
       "        vertical-align: middle;\n",
       "    }\n",
       "\n",
       "    .dataframe tbody tr th {\n",
       "        vertical-align: top;\n",
       "    }\n",
       "\n",
       "    .dataframe thead th {\n",
       "        text-align: right;\n",
       "    }\n",
       "</style>\n",
       "<table border=\"1\" class=\"dataframe\">\n",
       "  <thead>\n",
       "    <tr style=\"text-align: right;\">\n",
       "      <th></th>\n",
       "      <th>Unnamed: 0</th>\n",
       "      <th>danceability</th>\n",
       "      <th>energy</th>\n",
       "      <th>loudness</th>\n",
       "      <th>speechiness</th>\n",
       "      <th>acousticness</th>\n",
       "      <th>instrumentalness</th>\n",
       "      <th>liveness</th>\n",
       "      <th>valence</th>\n",
       "      <th>tempo</th>\n",
       "      <th>id</th>\n",
       "      <th>duration_ms</th>\n",
       "    </tr>\n",
       "  </thead>\n",
       "  <tbody>\n",
       "    <tr>\n",
       "      <th>0</th>\n",
       "      <td>0</td>\n",
       "      <td>0.613</td>\n",
       "      <td>0.764</td>\n",
       "      <td>-6.509</td>\n",
       "      <td>0.1360</td>\n",
       "      <td>0.0527</td>\n",
       "      <td>0.0</td>\n",
       "      <td>0.1970</td>\n",
       "      <td>0.417</td>\n",
       "      <td>160.015</td>\n",
       "      <td>2yLa0QULdQr0qAIvVwN6B5</td>\n",
       "      <td>208187</td>\n",
       "    </tr>\n",
       "    <tr>\n",
       "      <th>1</th>\n",
       "      <td>1</td>\n",
       "      <td>0.623</td>\n",
       "      <td>0.449</td>\n",
       "      <td>-13.333</td>\n",
       "      <td>0.0253</td>\n",
       "      <td>0.2120</td>\n",
       "      <td>0.0</td>\n",
       "      <td>0.0613</td>\n",
       "      <td>0.572</td>\n",
       "      <td>84.383</td>\n",
       "      <td>5tVA6TkbaAH9QMITTQRrNv</td>\n",
       "      <td>256000</td>\n",
       "    </tr>\n",
       "  </tbody>\n",
       "</table>\n",
       "</div>"
      ],
      "text/plain": [
       "   Unnamed: 0  danceability  energy  loudness  speechiness  acousticness  \\\n",
       "0           0         0.613   0.764    -6.509       0.1360        0.0527   \n",
       "1           1         0.623   0.449   -13.333       0.0253        0.2120   \n",
       "\n",
       "   instrumentalness  liveness  valence    tempo                      id  \\\n",
       "0               0.0    0.1970    0.417  160.015  2yLa0QULdQr0qAIvVwN6B5   \n",
       "1               0.0    0.0613    0.572   84.383  5tVA6TkbaAH9QMITTQRrNv   \n",
       "\n",
       "   duration_ms  \n",
       "0       208187  \n",
       "1       256000  "
      ]
     },
     "execution_count": 42,
     "metadata": {},
     "output_type": "execute_result"
    }
   ],
   "source": [
    "df_id = pd.read_csv('Data/spotifysongs2.csv')\n",
    "\n",
    "df_id.head(2)"
   ]
  },
  {
   "cell_type": "code",
   "execution_count": 46,
   "id": "d41ddf90",
   "metadata": {},
   "outputs": [
    {
     "data": {
      "text/plain": [
       "Index(['Unnamed: 0', 'danceability', 'energy', 'loudness', 'speechiness',\n",
       "       'acousticness', 'instrumentalness', 'liveness', 'valence', 'tempo',\n",
       "       'id', 'duration_ms'],\n",
       "      dtype='object')"
      ]
     },
     "execution_count": 46,
     "metadata": {},
     "output_type": "execute_result"
    }
   ],
   "source": [
    "df_id.keys()"
   ]
  },
  {
   "cell_type": "code",
   "execution_count": null,
   "id": "e7033529",
   "metadata": {},
   "outputs": [],
   "source": [
    "def spotify(x):\n",
    "    #Code for searching any song in Spotify.\n",
    "    song = sp.search(q=“Lose yourself”,limit=3,market=“GB”)\n",
    "    #get song id\n",
    "    song_id = song['tracks']['items'][0]['id']\n",
    "    #Code for getting the audio features of the given song.\n",
    "    song_audiofeature = sp.audio_features(song_id)[0]\n",
    "    #Getting the URI from the song.\n",
    "    #Code to transform the new audio features into a DataFrame.\n",
    "    song_audiofeature_df = pd.DataFrameFrame(song_audiofeature)\n",
    "    #Transform the DataFrame into numbers.\n",
    "    x_song_audiofeature_df = song_audiofeature_df.select_dtypes(include=np.number)\n",
    "    #Using Scaler for the new song.\n",
    "    x_song_scaler_audiofeature_df = scaler.transform(x_song_audiofeature_df)\n",
    "    #K-means and finding the same cluster.\n",
    "    cluster_input_song = kmeans.predict(x_song_scaler_audiofeature_df)"
   ]
  },
  {
   "cell_type": "code",
   "execution_count": 143,
   "id": "e2eaa451",
   "metadata": {},
   "outputs": [
    {
     "data": {
      "text/plain": [
       "Index(['danceability', 'energy', 'loudness', 'speechiness', 'acousticness',\n",
       "       'instrumentalness', 'liveness', 'valence', 'tempo', 'duration_ms',\n",
       "       'cluster', 'Unnamed: 0', 'id'],\n",
       "      dtype='object')"
      ]
     },
     "execution_count": 143,
     "metadata": {},
     "output_type": "execute_result"
    }
   ],
   "source": [
    "df.columns"
   ]
  },
  {
   "cell_type": "code",
   "execution_count": 199,
   "id": "af302bcd",
   "metadata": {},
   "outputs": [],
   "source": [
    "def spotify(x):\n",
    "    song = sp.search(q=x,limit=3,market='GB')\n",
    "    song_audiofeature =sp.audio_features(song['tracks']['items'][0]['uri'])[0]\n",
    "    song_audiofeature_df = pd.DataFrame(song_audiofeature, index=[0])\n",
    "    x_song_audiofeature_df = song_audiofeature_df[['danceability', 'energy', 'loudness', 'speechiness', 'acousticness',\n",
    "       'instrumentalness', 'liveness', 'valence', 'tempo', 'duration_ms']]\n",
    "    x_song_scaler_audiofeature_df = scaler.transform(x_song_audiofeature_df)\n",
    "    cluster_input_song = kmeans.predict(x_song_scaler_audiofeature_df)\n",
    "    return df_id[df['cluster'] == cluster_input_song[0]].sample()[['id']]"
   ]
  },
  {
   "cell_type": "code",
   "execution_count": 222,
   "id": "6c1bbd2b",
   "metadata": {},
   "outputs": [
    {
     "name": "stderr",
     "output_type": "stream",
     "text": [
      "/var/folders/q6/5m8hk7ms0p99xywmg31pkhym0000gn/T/ipykernel_15733/1826950899.py:9: UserWarning: Boolean Series key will be reindexed to match DataFrame index.\n",
      "  return df_id[df['cluster'] == cluster_input_song[0]].sample()[['id']]\n"
     ]
    },
    {
     "data": {
      "text/html": [
       "<div>\n",
       "<style scoped>\n",
       "    .dataframe tbody tr th:only-of-type {\n",
       "        vertical-align: middle;\n",
       "    }\n",
       "\n",
       "    .dataframe tbody tr th {\n",
       "        vertical-align: top;\n",
       "    }\n",
       "\n",
       "    .dataframe thead th {\n",
       "        text-align: right;\n",
       "    }\n",
       "</style>\n",
       "<table border=\"1\" class=\"dataframe\">\n",
       "  <thead>\n",
       "    <tr style=\"text-align: right;\">\n",
       "      <th></th>\n",
       "      <th>id</th>\n",
       "    </tr>\n",
       "  </thead>\n",
       "  <tbody>\n",
       "    <tr>\n",
       "      <th>180</th>\n",
       "      <td>286oOUWsKLgh9DMcOqKkkQ</td>\n",
       "    </tr>\n",
       "  </tbody>\n",
       "</table>\n",
       "</div>"
      ],
      "text/plain": [
       "                         id\n",
       "180  286oOUWsKLgh9DMcOqKkkQ"
      ]
     },
     "execution_count": 222,
     "metadata": {},
     "output_type": "execute_result"
    }
   ],
   "source": [
    "spotify('Akelarretan')\n"
   ]
  },
  {
   "cell_type": "code",
   "execution_count": 223,
   "id": "2d67a25a",
   "metadata": {},
   "outputs": [
    {
     "data": {
      "text/html": [
       "\n",
       "        <iframe\n",
       "            width=\"320\"\n",
       "            height=\"80\"\n",
       "            src=\"https://open.spotify.com/embed/track/\t286oOUWsKLgh9DMcOqKkkQ?frameborder=0&allowtransparency=true&allow=encrypted-media\"\n",
       "            frameborder=\"0\"\n",
       "            allowfullscreen\n",
       "            \n",
       "        ></iframe>\n",
       "        "
      ],
      "text/plain": [
       "<IPython.lib.display.IFrame at 0x7f78b102d7c0>"
      ]
     },
     "execution_count": 223,
     "metadata": {},
     "output_type": "execute_result"
    }
   ],
   "source": [
    "track_id= '\t286oOUWsKLgh9DMcOqKkkQ'\n",
    "IFrame(src=\"https://open.spotify.com/embed/track/\"+track_id,\n",
    "       width=\"320\",\n",
    "       height=\"80\",\n",
    "       frameborder=\"0\",\n",
    "       allowtransparency=\"true\",\n",
    "       allow=\"encrypted-media\",\n",
    "      )"
   ]
  },
  {
   "cell_type": "code",
   "execution_count": null,
   "id": "285c6678",
   "metadata": {},
   "outputs": [],
   "source": [
    "df.at[0, 'A']"
   ]
  },
  {
   "cell_type": "code",
   "execution_count": null,
   "id": "08a090b4",
   "metadata": {},
   "outputs": [],
   "source": [
    "df_id[df['cluster'] == cluster_input_song[0]].sample()[['id']]"
   ]
  }
 ],
 "metadata": {
  "kernelspec": {
   "display_name": "Python 3 (ipykernel)",
   "language": "python",
   "name": "python3"
  },
  "language_info": {
   "codemirror_mode": {
    "name": "ipython",
    "version": 3
   },
   "file_extension": ".py",
   "mimetype": "text/x-python",
   "name": "python",
   "nbconvert_exporter": "python",
   "pygments_lexer": "ipython3",
   "version": "3.9.12"
  }
 },
 "nbformat": 4,
 "nbformat_minor": 5
}
