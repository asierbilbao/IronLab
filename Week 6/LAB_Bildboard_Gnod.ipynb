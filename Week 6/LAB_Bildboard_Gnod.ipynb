{
 "cells": [
  {
   "cell_type": "markdown",
   "id": "ac01b6f6",
   "metadata": {},
   "source": [
    "<b>Create a function to scrape the Billboards 100 HOT songs and create a local dataframe of songs with them including:\n",
    "\n",
    "- Song’s name <br> \n",
    "- Song’s artist</b>\n"
   ]
  },
  {
   "cell_type": "code",
   "execution_count": 1,
   "id": "2766f075",
   "metadata": {},
   "outputs": [],
   "source": [
    "from bs4 import BeautifulSoup\n",
    "import requests\n",
    "import pandas as pd"
   ]
  },
  {
   "cell_type": "code",
   "execution_count": 2,
   "id": "5c175ff2",
   "metadata": {},
   "outputs": [],
   "source": [
    "url = \"https://www.billboard.com/charts/hot-100/\""
   ]
  },
  {
   "cell_type": "code",
   "execution_count": 3,
   "id": "6e58e091",
   "metadata": {},
   "outputs": [],
   "source": [
    "response = requests.get(url)"
   ]
  },
  {
   "cell_type": "code",
   "execution_count": 4,
   "id": "4f724849",
   "metadata": {},
   "outputs": [
    {
     "data": {
      "text/plain": [
       "200"
      ]
     },
     "execution_count": 4,
     "metadata": {},
     "output_type": "execute_result"
    }
   ],
   "source": [
    "response.status_code #we get 200, which means that the request has been successful"
   ]
  },
  {
   "cell_type": "code",
   "execution_count": 22,
   "id": "3dd3a754",
   "metadata": {},
   "outputs": [],
   "source": [
    "#parse html (create the 'soup')\n",
    "soup = BeautifulSoup(response.content, \"html.parser\")"
   ]
  },
  {
   "cell_type": "code",
   "execution_count": 9,
   "id": "1d03c188",
   "metadata": {},
   "outputs": [
    {
     "data": {
      "text/plain": [
       "'Staying Alive'"
      ]
     },
     "execution_count": 9,
     "metadata": {},
     "output_type": "execute_result"
    }
   ],
   "source": [
    "soup.select(\"li > h3\")[99].get_text().strip()"
   ]
  },
  {
   "cell_type": "code",
   "execution_count": 11,
   "id": "32acc092",
   "metadata": {},
   "outputs": [
    {
     "data": {
      "text/plain": [
       "'DJ Khaled Featuring Drake & Lil Baby'"
      ]
     },
     "execution_count": 11,
     "metadata": {},
     "output_type": "execute_result"
    }
   ],
   "source": [
    "soup.select(\"li > h3\")[99].find_next(\"span\").get_text().strip()"
   ]
  },
  {
   "cell_type": "code",
   "execution_count": 12,
   "id": "87deee6f",
   "metadata": {},
   "outputs": [],
   "source": [
    "#we create the empty lists\n",
    "song = []\n",
    "artist = []"
   ]
  },
  {
   "cell_type": "code",
   "execution_count": 13,
   "id": "64693221",
   "metadata": {},
   "outputs": [],
   "source": [
    "#count the number of interations. 100 top songs \n",
    "num_iter = 100"
   ]
  },
  {
   "cell_type": "code",
   "execution_count": 14,
   "id": "58b69bf4",
   "metadata": {},
   "outputs": [],
   "source": [
    "#iterate and create the lists\n",
    "for i in range(num_iter):\n",
    "    song.append(soup.select(\"li > h3\")[i].get_text().strip())\n",
    "    artist.append(soup.select(\"li > h3\")[i].find_next(\"span\").get_text().strip())"
   ]
  },
  {
   "cell_type": "code",
   "execution_count": 15,
   "id": "a2d43b1c",
   "metadata": {},
   "outputs": [
    {
     "name": "stdout",
     "output_type": "stream",
     "text": [
      "['Anti-Hero', 'Rich Flex', 'Major Distribution', 'On BS', 'Spin Bout U', 'Pussy & Millions', 'Privileged Rappers', 'Circo Loco', 'BackOutsideBoyz', 'Unholy', 'Hours In Silence', 'Broke Boys', 'Bad Habit', 'Treacherous Twins', 'Middle Of The Ocean', 'Jumbotron Shit Poppin', 'As It Was', 'More M’s', \"I Guess It's Fuck Me\", \"I'm Good (Blue)\", 'Super Freaky Girl', 'Lift Me Up', 'Lavender Haze', 'I Like You (A Happier Song)', 'You Proof', 'Something In The Orange', '3AM On Glenwood', \"I Ain't Worried\", 'Vegas', 'Midnight Rain', 'Jimmy Cooks', 'Under The Influence', 'Bejeweled', 'Die For You', 'Sunroof', 'Maroon', 'Wasted On You', 'Cuff It', 'Karma', 'Snow On The Beach', 'Wait For U', \"You're On Your Own, Kid\", 'Titi Me Pregunto', 'Just Wanna Rock', 'The Kind Of Love We Make', 'Shirt', 'She Had Me At Heads Carolina', 'About Damn Time', 'Tomorrow 2', 'Unstoppable', 'Vigilante Shit', 'Thank God', 'Die For You', '5 Foot 9', 'Hold Me Closer', 'Question...?', 'Golden Hour', 'Rock And A Hard Place', 'Fall In Love', 'Half Of Me', 'Made You Look', 'Hotel Lobby (Unc And Phew)', 'What My World Spins Around', 'Until I Found You', 'Mastermind', 'Victoria’s Secret', 'Labyrinth', \"Star Walkin' (League Of Legends Worlds Anthem)\", 'Son Of A Sinner', \"Don't Come Lookin'\", 'Sweet Nothing', 'Romantic Homicide', 'California Breeze', 'Billie Eilish.', 'Wait In The Truck', \"Would've, Could've, Should've\", 'Heyy', 'Wishful Drinking', 'Free Mind', 'Music For A Sushi Restaurant', 'No Se Va', 'Whiskey On You', 'My Mind & Me', 'Forever', 'Bigger Than The Whole Sky', 'All Mine', 'The Great War', 'Calm Down', 'Miss You', 'Paris', 'Last Last', 'Freestyle', 'Pick Me Up', 'In My Head', 'Country On', 'La Bachata', '2 Be Loved (Am I Ready)', 'High Infidelity', 'Gotta Move On', 'Staying Alive']\n"
     ]
    }
   ],
   "source": [
    "print(song)"
   ]
  },
  {
   "cell_type": "code",
   "execution_count": 16,
   "id": "b13f45e6",
   "metadata": {},
   "outputs": [
    {
     "name": "stdout",
     "output_type": "stream",
     "text": [
      "['Taylor Swift', 'Drake & 21 Savage', 'Drake & 21 Savage', 'Drake & 21 Savage', 'Drake & 21 Savage', 'Drake & 21 Savage Featuring Travis Scott', 'Drake & 21 Savage', 'Drake & 21 Savage', 'Drake', 'Sam Smith & Kim Petras', 'Drake & 21 Savage', 'Drake & 21 Savage', 'Steve Lacy', 'Drake & 21 Savage', 'Drake', 'Drake', 'Harry Styles', 'Drake & 21 Savage', 'Drake', 'David Guetta & Bebe Rexha', 'Nicki Minaj', 'Rihanna', 'Taylor Swift', 'Post Malone Featuring Doja Cat', 'Morgan Wallen', 'Zach Bryan', '21 Savage', 'OneRepublic', 'Doja Cat', 'Taylor Swift', 'Drake Featuring 21 Savage', 'Chris Brown', 'Taylor Swift', 'The Weeknd', 'Nicky Youre & dazy', 'Taylor Swift', 'Morgan Wallen', 'Beyonce', 'Taylor Swift', 'Taylor Swift Featuring Lana Del Rey', 'Future Featuring Drake & Tems', 'Taylor Swift', 'Bad Bunny', 'Lil Uzi Vert', 'Luke Combs', 'SZA', 'Cole Swindell', 'Lizzo', 'GloRilla & Cardi B', 'Sia', 'Taylor Swift', 'Kane Brown With Katelyn Brown', 'Joji', 'Tyler Hubbard', 'Elton John & Britney Spears', 'Taylor Swift', 'JVKE', 'Bailey Zimmerman', 'Bailey Zimmerman', 'Thomas Rhett Featuring Riley Green', 'Meghan Trainor', 'Quavo & Takeoff', 'Jordan Davis', 'Stephen Sanchez', 'Taylor Swift', 'Jax', 'Taylor Swift', 'Lil Nas X', 'Jelly Roll', 'Jackson Dean', 'Taylor Swift', 'd4vd', 'Lil Baby', 'Armani White', 'HARDY Featuring Lainey Wilson', 'Taylor Swift', 'Lil Baby', 'Ingrid Andress With Sam Hunt', 'Tems', 'Harry Styles', 'Grupo Frontera', 'Nate Smith', 'Selena Gomez', 'Lil Baby Featuring Fridayy', 'Taylor Swift', 'Brent Faiyaz', 'Taylor Swift', 'Rema & Selena Gomez', 'Oliver Tree & Robin Schulz', 'Taylor Swift', 'Burna Boy', 'Lil Baby', 'Gabby Barrett', 'Juice WRLD', 'Luke Bryan', 'Manuel Turizo', 'Lizzo', 'Taylor Swift', 'Diddy & Bryson Tiller', 'DJ Khaled Featuring Drake & Lil Baby']\n"
     ]
    }
   ],
   "source": [
    "print(artist)"
   ]
  },
  {
   "cell_type": "code",
   "execution_count": 17,
   "id": "9bc9eb64",
   "metadata": {},
   "outputs": [],
   "source": [
    "#create dataframe \n",
    "\n",
    "top100_songs = pd.DataFrame({\"song\":song,\n",
    "                            \"artist\":artist\n",
    "                            })"
   ]
  },
  {
   "cell_type": "code",
   "execution_count": 21,
   "id": "d6c8661a",
   "metadata": {
    "scrolled": true
   },
   "outputs": [
    {
     "data": {
      "text/html": [
       "<div>\n",
       "<style scoped>\n",
       "    .dataframe tbody tr th:only-of-type {\n",
       "        vertical-align: middle;\n",
       "    }\n",
       "\n",
       "    .dataframe tbody tr th {\n",
       "        vertical-align: top;\n",
       "    }\n",
       "\n",
       "    .dataframe thead th {\n",
       "        text-align: right;\n",
       "    }\n",
       "</style>\n",
       "<table border=\"1\" class=\"dataframe\">\n",
       "  <thead>\n",
       "    <tr style=\"text-align: right;\">\n",
       "      <th></th>\n",
       "      <th>song</th>\n",
       "      <th>artist</th>\n",
       "    </tr>\n",
       "  </thead>\n",
       "  <tbody>\n",
       "    <tr>\n",
       "      <th>0</th>\n",
       "      <td>Anti-Hero</td>\n",
       "      <td>Taylor Swift</td>\n",
       "    </tr>\n",
       "    <tr>\n",
       "      <th>1</th>\n",
       "      <td>Rich Flex</td>\n",
       "      <td>Drake &amp; 21 Savage</td>\n",
       "    </tr>\n",
       "    <tr>\n",
       "      <th>2</th>\n",
       "      <td>Major Distribution</td>\n",
       "      <td>Drake &amp; 21 Savage</td>\n",
       "    </tr>\n",
       "    <tr>\n",
       "      <th>3</th>\n",
       "      <td>On BS</td>\n",
       "      <td>Drake &amp; 21 Savage</td>\n",
       "    </tr>\n",
       "    <tr>\n",
       "      <th>4</th>\n",
       "      <td>Spin Bout U</td>\n",
       "      <td>Drake &amp; 21 Savage</td>\n",
       "    </tr>\n",
       "    <tr>\n",
       "      <th>...</th>\n",
       "      <td>...</td>\n",
       "      <td>...</td>\n",
       "    </tr>\n",
       "    <tr>\n",
       "      <th>95</th>\n",
       "      <td>La Bachata</td>\n",
       "      <td>Manuel Turizo</td>\n",
       "    </tr>\n",
       "    <tr>\n",
       "      <th>96</th>\n",
       "      <td>2 Be Loved (Am I Ready)</td>\n",
       "      <td>Lizzo</td>\n",
       "    </tr>\n",
       "    <tr>\n",
       "      <th>97</th>\n",
       "      <td>High Infidelity</td>\n",
       "      <td>Taylor Swift</td>\n",
       "    </tr>\n",
       "    <tr>\n",
       "      <th>98</th>\n",
       "      <td>Gotta Move On</td>\n",
       "      <td>Diddy &amp; Bryson Tiller</td>\n",
       "    </tr>\n",
       "    <tr>\n",
       "      <th>99</th>\n",
       "      <td>Staying Alive</td>\n",
       "      <td>DJ Khaled Featuring Drake &amp; Lil Baby</td>\n",
       "    </tr>\n",
       "  </tbody>\n",
       "</table>\n",
       "<p>100 rows × 2 columns</p>\n",
       "</div>"
      ],
      "text/plain": [
       "                       song                                artist\n",
       "0                 Anti-Hero                          Taylor Swift\n",
       "1                 Rich Flex                     Drake & 21 Savage\n",
       "2        Major Distribution                     Drake & 21 Savage\n",
       "3                     On BS                     Drake & 21 Savage\n",
       "4               Spin Bout U                     Drake & 21 Savage\n",
       "..                      ...                                   ...\n",
       "95               La Bachata                         Manuel Turizo\n",
       "96  2 Be Loved (Am I Ready)                                 Lizzo\n",
       "97          High Infidelity                          Taylor Swift\n",
       "98            Gotta Move On                 Diddy & Bryson Tiller\n",
       "99            Staying Alive  DJ Khaled Featuring Drake & Lil Baby\n",
       "\n",
       "[100 rows x 2 columns]"
      ]
     },
     "execution_count": 21,
     "metadata": {},
     "output_type": "execute_result"
    }
   ],
   "source": [
    "top100_songs.head(100)"
   ]
  },
  {
   "cell_type": "code",
   "execution_count": 23,
   "id": "96f98736",
   "metadata": {},
   "outputs": [],
   "source": [
    "top100_songs.to_csv(\"Data/top100_songs.csv\")"
   ]
  },
  {
   "cell_type": "markdown",
   "id": "bfe51b2f",
   "metadata": {},
   "source": [
    "# Case Study: The site for recommendations - \"Gnod\"\n",
    "\n",
    "### Scenario\n",
    "\n",
    "You have been hired as a Data Analyst for \"Gnod\".\n",
    "\n",
    "\"Gnod\" is a site that provides recommendations for music, art, literature and products based on collaborative filtering algorithms. Their flagship product is the _music recommender_, which you can try at [www.gnoosic.com](https://www.gnoosic.com). The site asks users to input 3 bands they like, and computes similarity scores with the rest of the users. Then, they recommend to the user bands that users with similar tastes have picked.\n",
    "\n",
    "\"Gnod\" is a small company, and its only revenue stream so far are Ads in the site. In the future, they would like to explore partnership options with music apps (such as _Deezer_, _Soundcloud_ or even _Apple Music_ and _Spotify_). However, for that to be possible, they need to expand and improve their recommendations.\n",
    "\n",
    "That's precisely where you come. They have hired you as a Data Analyst, and they expect you to bring a mix of technical expertise and business mindset to the table.\n",
    "\n",
    "Jane, CTO of Gnod, has sent you an email assigning you with your first task.\n",
    "\n",
    "### Task(s)\n",
    "\n",
    "> This is an e-mail Jane - CTO of Gnod - sent over your inbox in the first weeks working there.\n",
    "\n",
    "_Dear xxxxxxxx,\n",
    "We are thrilled to welcome you as a Data Analyst for *Gnoosic*!_\n",
    "\n",
    "_As you know, we are trying to come up with ways to enhance our music recommendations. One of the new features we'd like to research is to recommend songs (not only bands). We're also aware of the limitations of our collaborative filtering algorithms, and would like to give users two new possibilities when searching for recommendations:_\n",
    "\n",
    "- _Songs that are popular around the world right now, independently from their tastes._\n",
    "- _Songs that are actually similar to the ones they picked from an acoustic point of view._\n",
    "\n",
    "_Coming up with the perfect song recommender will take us months - no need to stress out too much. In this first week, we want you to explore new data sources for songs. The Internet is full of information and our first step is to acquire it do an initial exploration. Feel free to use APIs or directly scrape the web to collect as much information as possible from popular songs. Eventually, we'll need to collect data from millions of songs, but we can start with a few hundreds or thousands from each source and see if the collected features are useful._\n",
    "\n",
    "_Once the data is collected, we want you to create clusters of songs that are similar to each other. The idea is that if a user inputs a song from one group, we'll prioritize giving them recommendations of songs from that same group._\n",
    "\n",
    "_On Friday, you will present your work to me and Marek, the CEO and founder. Full disclosure: I need you to be very convincing about this whole song-recommender, as this has been my personal push and the main reason we hired you for!_\n",
    "\n",
    "_Be open minded about this process: we are agile, and that means that we define our products and features on-the-go, while exploring the tools and the data that's available to us. We'd love you to provide your own vision of the product and the next steps to be taken._\n",
    "\n",
    "_Lots of luck and strength for this first week with us!_\n",
    "\n",
    "_-Jane_"
   ]
  },
  {
   "cell_type": "markdown",
   "id": "7c19551e",
   "metadata": {},
   "source": [
    "**Lab | Web Scraping Multiple Pages**\n",
    "Business goal:\n",
    "Check the case_study_gnod.md file.\n",
    "\n",
    "Make sure you've understood the big picture of your project:\n",
    "\n",
    "the goal of the company (Gnod),\n",
    "their current product (Gnoosic),\n",
    "their strategy, and\n",
    "how your project fits into this context.\n",
    "Re-read the business case and the e-mail from the CTO, take a look at the flowchart and create an initial Trello board with the tasks you think you'll have to accomplish.\n",
    "\n",
    "Instructions\n",
    "Prioritize the MVP\n",
    "In the previous lab, you had to scrape data about \"hot songs\". It's critical to be on track with that part, as it was part of the request from the CTO.\n",
    "\n",
    "If you couldn't finish the first lab, use this time to go back there.\n",
    "\n",
    "**User experience:**\n",
    "\n",
    "What happens if the user inputs a song that doesn't exist?\n",
    "What do we do with songs that have the same name, but a different artist?\n",
    "How do we deal with typos?\n",
    "\n",
    "**Architecture:**\n",
    "\n",
    "Do we build the interaction with the user in the same notebook as the web-scraping?\n",
    "Where do we store the scraped songs?\n",
    "\n",
    "**Scheduling / Automation:**\n",
    "\n",
    "Should we scrape billboard / wikipedia every time a user sends a request?\n",
    "\n",
    "**Testing:**\n",
    "\n",
    "Does it work when you test it with a real user (a colleague)?\n",
    "Chances are that more issues will appear, and that not all of them will be solved during this session. But what's important is that the issues have been identified."
   ]
  },
  {
   "cell_type": "code",
   "execution_count": 93,
   "id": "877a4653",
   "metadata": {},
   "outputs": [],
   "source": [
    "#Let's lowercase all content of the data frame, to avoid case typos later. \n",
    "\n",
    "song = list((map(lambda x: x.lower(), song)))\n",
    "artist = list((map(lambda x: x.lower(), artist)))"
   ]
  },
  {
   "cell_type": "code",
   "execution_count": 100,
   "id": "3aeb31a5",
   "metadata": {},
   "outputs": [],
   "source": [
    "def choose():\n",
    "    x = input('Please, choose your Top100 favourite trendy artist:').lower()\n",
    "    y = input('Now choose the song you want to listen to:').lower()\n",
    "    if x in artist and y in song:\n",
    "        return(\"Great, now you are listening to %s of %s, enjoy :)))\"%(y,x))\n",
    "    else:\n",
    "        return choose()\n",
    "     "
   ]
  },
  {
   "cell_type": "code",
   "execution_count": 102,
   "id": "ab2607df",
   "metadata": {},
   "outputs": [
    {
     "name": "stdout",
     "output_type": "stream",
     "text": [
      "Please, choose your Top100 favourite trendy artist:Taylor Swift\n",
      "Now choose the song you want to listen to:Anti-Hero\n"
     ]
    },
    {
     "data": {
      "text/plain": [
       "'Great, now you are listening to anti-hero of taylor swift, enjoy :)))'"
      ]
     },
     "execution_count": 102,
     "metadata": {},
     "output_type": "execute_result"
    }
   ],
   "source": [
    "choose()"
   ]
  }
 ],
 "metadata": {
  "kernelspec": {
   "display_name": "Python 3 (ipykernel)",
   "language": "python",
   "name": "python3"
  },
  "language_info": {
   "codemirror_mode": {
    "name": "ipython",
    "version": 3
   },
   "file_extension": ".py",
   "mimetype": "text/x-python",
   "name": "python",
   "nbconvert_exporter": "python",
   "pygments_lexer": "ipython3",
   "version": "3.9.12"
  }
 },
 "nbformat": 4,
 "nbformat_minor": 5
}
