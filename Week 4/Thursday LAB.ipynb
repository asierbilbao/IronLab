{
 "cells": [
  {
   "cell_type": "markdown",
   "id": "39b311d3",
   "metadata": {},
   "source": [
    "**Lab | Hypothesis Testing**\n",
    "\n",
    "**Instructions**\n",
    "It is assumed that the mean systolic blood pressure is μ = 120 mm Hg. In the Honolulu Heart Study, a sample of n = 100 people had an average systolic blood pressure of 130.1 mm Hg with a standard deviation of 21.21 mm Hg. Is the group significantly different (with respect to systolic blood pressure!) from the regular population?\n",
    "\n",
    "**Set up the hypothesis test.**\n",
    "- Write down all the steps followed for setting up the test.\n",
    "- Calculate the test statistic by hand and also code it in Python. It should be 4.76190. What decision can you make based on this calculated value?"
   ]
  },
  {
   "cell_type": "code",
   "execution_count": 1,
   "id": "ca4f191c",
   "metadata": {},
   "outputs": [],
   "source": [
    "import numpy as np\n",
    "import pandas as pd\n",
    "import scipy.stats as stats\n",
    "import matplotlib.pyplot as plt\n",
    "import seaborn as sns\n",
    "\n",
    "%matplotlib inline"
   ]
  },
  {
   "cell_type": "code",
   "execution_count": 2,
   "id": "c82e433c",
   "metadata": {},
   "outputs": [],
   "source": [
    "#population: μ = 120 mm Hg / \n",
    "#sample: x = 130.1 mm Hg / o = 21.21 mm Hg / n = 100 / \n",
    "\n",
    "#Ho: mu = 120\n",
    "#Hi: mu != 120\n",
    "\n",
    "#2 tailed \n",
    "\n",
    "mean_pop = 120\n",
    "mean_sample = 130.1\n",
    "std_sample = 21.21\n",
    "sample = 100"
   ]
  },
  {
   "cell_type": "code",
   "execution_count": 3,
   "id": "2c86e18c",
   "metadata": {},
   "outputs": [],
   "source": [
    "#we choose t test, because despite having a n>30, we don't have the std of the population.\n",
    "t = (mean_sample - mean_pop) / (std_sample / np.sqrt(sample))"
   ]
  },
  {
   "cell_type": "code",
   "execution_count": 4,
   "id": "b8fdac4d",
   "metadata": {},
   "outputs": [
    {
     "data": {
      "text/plain": [
       "4.761904761904759"
      ]
     },
     "execution_count": 4,
     "metadata": {},
     "output_type": "execute_result"
    }
   ],
   "source": [
    "t"
   ]
  },
  {
   "cell_type": "code",
   "execution_count": 5,
   "id": "21e0a908",
   "metadata": {},
   "outputs": [],
   "source": [
    "#95% confindece level. \n",
    "tc = stats.t.ppf(0.975,df=sample)"
   ]
  },
  {
   "cell_type": "code",
   "execution_count": 6,
   "id": "6dca5856",
   "metadata": {},
   "outputs": [
    {
     "data": {
      "text/plain": [
       "1.9839715184496334"
      ]
     },
     "execution_count": 6,
     "metadata": {},
     "output_type": "execute_result"
    }
   ],
   "source": [
    "tc"
   ]
  },
  {
   "cell_type": "code",
   "execution_count": 7,
   "id": "64a8edb1",
   "metadata": {},
   "outputs": [
    {
     "name": "stdout",
     "output_type": "stream",
     "text": [
      "We reject the Ho, we can say that the group is significantly different from the regular popoulation with a 95% confindence level.\n"
     ]
    }
   ],
   "source": [
    "if t > tc:\n",
    "    print(\"We reject the Ho, we can say that the group is significantly different from the regular popoulation with a 95% confindence level.\")\n",
    "else:\n",
    "    print(\"We reject the Ho, the group is not different from the regular population with a 95% confindence level \")\n",
    "    "
   ]
  },
  {
   "cell_type": "code",
   "execution_count": 8,
   "id": "c5316a30",
   "metadata": {},
   "outputs": [],
   "source": [
    "#Would I be able to create a function of this process?"
   ]
  },
  {
   "cell_type": "markdown",
   "id": "30b5134f",
   "metadata": {},
   "source": [
    "**Optional**\n",
    "\n",
    "In a packing plant, a machine packs cartons with jars. It is supposed that a new machine will pack faster on the average than the machine currently used. To test that hypothesis, the times it takes each machine to pack ten cartons are recorded. The results, in seconds, are shown in the tables in the file Data/machine.txt. Assume that there is sufficient evidence to conduct the t test, does the data provide sufficient evidence to show if one machine is better than the other.\n",
    "\n",
    "Hint: use two sample t-test\n",
    "\n",
    "t= (sample_mean(x1) - sample_mean(x2)) / sqrt(square(s1)/n1 + square(s2)/n2 )"
   ]
  },
  {
   "cell_type": "code",
   "execution_count": 5,
   "id": "7344cfd1",
   "metadata": {},
   "outputs": [
    {
     "data": {
      "text/html": [
       "<div>\n",
       "<style scoped>\n",
       "    .dataframe tbody tr th:only-of-type {\n",
       "        vertical-align: middle;\n",
       "    }\n",
       "\n",
       "    .dataframe tbody tr th {\n",
       "        vertical-align: top;\n",
       "    }\n",
       "\n",
       "    .dataframe thead th {\n",
       "        text-align: right;\n",
       "    }\n",
       "</style>\n",
       "<table border=\"1\" class=\"dataframe\">\n",
       "  <thead>\n",
       "    <tr style=\"text-align: right;\">\n",
       "      <th></th>\n",
       "      <th>new_machine</th>\n",
       "      <th>old_machine</th>\n",
       "    </tr>\n",
       "  </thead>\n",
       "  <tbody>\n",
       "    <tr>\n",
       "      <th>0</th>\n",
       "      <td>42.1</td>\n",
       "      <td>42.7</td>\n",
       "    </tr>\n",
       "    <tr>\n",
       "      <th>1</th>\n",
       "      <td>41.0</td>\n",
       "      <td>43.6</td>\n",
       "    </tr>\n",
       "    <tr>\n",
       "      <th>2</th>\n",
       "      <td>41.3</td>\n",
       "      <td>43.8</td>\n",
       "    </tr>\n",
       "    <tr>\n",
       "      <th>3</th>\n",
       "      <td>41.8</td>\n",
       "      <td>43.3</td>\n",
       "    </tr>\n",
       "    <tr>\n",
       "      <th>4</th>\n",
       "      <td>42.4</td>\n",
       "      <td>42.5</td>\n",
       "    </tr>\n",
       "    <tr>\n",
       "      <th>5</th>\n",
       "      <td>42.8</td>\n",
       "      <td>43.5</td>\n",
       "    </tr>\n",
       "    <tr>\n",
       "      <th>6</th>\n",
       "      <td>43.2</td>\n",
       "      <td>43.1</td>\n",
       "    </tr>\n",
       "    <tr>\n",
       "      <th>7</th>\n",
       "      <td>42.3</td>\n",
       "      <td>41.7</td>\n",
       "    </tr>\n",
       "    <tr>\n",
       "      <th>8</th>\n",
       "      <td>41.8</td>\n",
       "      <td>44.0</td>\n",
       "    </tr>\n",
       "    <tr>\n",
       "      <th>9</th>\n",
       "      <td>42.7</td>\n",
       "      <td>44.1</td>\n",
       "    </tr>\n",
       "  </tbody>\n",
       "</table>\n",
       "</div>"
      ],
      "text/plain": [
       "   new_machine  old_machine\n",
       "0         42.1         42.7\n",
       "1         41.0         43.6\n",
       "2         41.3         43.8\n",
       "3         41.8         43.3\n",
       "4         42.4         42.5\n",
       "5         42.8         43.5\n",
       "6         43.2         43.1\n",
       "7         42.3         41.7\n",
       "8         41.8         44.0\n",
       "9         42.7         44.1"
      ]
     },
     "execution_count": 5,
     "metadata": {},
     "output_type": "execute_result"
    }
   ],
   "source": [
    "import pandas as pd\n",
    "df=pd.read_csv('Data/Data_Machine.txt',delimiter = \"\\t\")\n",
    "df.columns = ['new_machine','old_machine']\n",
    "df"
   ]
  },
  {
   "cell_type": "code",
   "execution_count": 6,
   "id": "dada686e",
   "metadata": {},
   "outputs": [],
   "source": [
    "#After cleaning the data, we'll do the next calculus.\n",
    "#New machine better than older?\n",
    "\n",
    "\n",
    "#Old Machine\n",
    "# mu_old= 43.230000000000004\n",
    "# std_old = 0.7498888806572157\n",
    "# n = 10\n",
    "\n",
    "#New Machine\n",
    "# mu_new = 42.14\n",
    "# std_new = 0.6834552736727638\n",
    "# n = 10"
   ]
  },
  {
   "cell_type": "code",
   "execution_count": 12,
   "id": "e957284a",
   "metadata": {},
   "outputs": [],
   "source": [
    "#old machine\n",
    "mu_old = df['old_machine'].mean()\n",
    "var_old = df['old_machine'].var()"
   ]
  },
  {
   "cell_type": "code",
   "execution_count": 13,
   "id": "37144d0f",
   "metadata": {},
   "outputs": [],
   "source": [
    "#New Machine\n",
    "mu_new = df['new_machine'].mean()\n",
    "var_new = df['new_machine'].var()"
   ]
  },
  {
   "cell_type": "code",
   "execution_count": 14,
   "id": "5880e7bc",
   "metadata": {},
   "outputs": [
    {
     "name": "stdout",
     "output_type": "stream",
     "text": [
      "43.230000000000004   0.5623333333333319\n",
      "42.14   0.5623333333333319\n"
     ]
    }
   ],
   "source": [
    "print(mu_old,\" \",var_old)\n",
    "print(mu_new,\" \", var_old)"
   ]
  },
  {
   "cell_type": "code",
   "execution_count": null,
   "id": "0c094d47",
   "metadata": {},
   "outputs": [],
   "source": [
    "# Ho: mu_new != mu_old\n",
    "# Hi: mu_new > mu_old\n",
    "\n"
   ]
  }
 ],
 "metadata": {
  "kernelspec": {
   "display_name": "Python 3 (ipykernel)",
   "language": "python",
   "name": "python3"
  },
  "language_info": {
   "codemirror_mode": {
    "name": "ipython",
    "version": 3
   },
   "file_extension": ".py",
   "mimetype": "text/x-python",
   "name": "python",
   "nbconvert_exporter": "python",
   "pygments_lexer": "ipython3",
   "version": "3.9.12"
  }
 },
 "nbformat": 4,
 "nbformat_minor": 5
}
