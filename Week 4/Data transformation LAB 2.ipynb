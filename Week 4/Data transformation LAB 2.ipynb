{
 "cells": [
  {
   "cell_type": "markdown",
   "id": "dd3f7b7a",
   "metadata": {},
   "source": [
    "(Monday)\n",
    "\n",
    "**Tasks**\n",
    "Hint: use the file Data_Marketing_Customer_Analysis_Round3.csv\n",
    "\n",
    "- Check if there are highly correlated features and drop them if there are any.\n",
    "- One Hot/Label Encoding of the categorical variables in the categoricals data frame that you created in Activity 3. ( Hint: check Dropfirst option). \n",
    "- For the first iteration, we will focus on the numericals data (numericals data frame) as our data source."
   ]
  },
  {
   "cell_type": "code",
   "execution_count": 117,
   "id": "49968eed",
   "metadata": {},
   "outputs": [],
   "source": [
    "import numpy as np\n",
    "import pandas as pd\n",
    "import matplotlib.pyplot as plt\n",
    "%matplotlib inline\n",
    "import seaborn as sns\n",
    "from sklearn.preprocessing import StandardScaler\n",
    "from sklearn.preprocessing import quantile_transform\n",
    "from sklearn.preprocessing import minmax_scale\n",
    "from sklearn.preprocessing import OneHotEncoder  ##. better to use dummy from pandas \n",
    "from sklearn.preprocessing import PowerTransformer\n",
    "from scipy.stats import boxcox\n",
    "from sklearn.linear_model import LinearRegression\n",
    "from sklearn.model_selection import train_test_split\n",
    "import statsmodels.api as sm\n",
    "from scipy.stats import boxcox\n",
    "from sklearn.metrics import r2_score\n",
    "from sklearn.metrics import mean_squared_error as mse\n",
    "from sklearn.metrics import mean_absolute_error as mae\n",
    "pd.options.display.max_rows = 50\n",
    "## Install xlrd package to load Excel files\n",
    "# conda install openpyxl\n",
    "## conda install xlrd\n",
    "\n",
    "\n",
    "df = pd.read_csv('Data/Data_Marketing_Customer_Analysis_Round3.csv')"
   ]
  },
  {
   "cell_type": "code",
   "execution_count": 118,
   "id": "abe5e96f",
   "metadata": {},
   "outputs": [
    {
     "name": "stderr",
     "output_type": "stream",
     "text": [
      "/var/folders/q6/5m8hk7ms0p99xywmg31pkhym0000gn/T/ipykernel_4595/123256578.py:2: DeprecationWarning: `np.object` is a deprecated alias for the builtin `object`. To silence this warning, use `object` by itself. Doing this will not modify any behavior and is safe. \n",
      "Deprecated in NumPy 1.20; for more details and guidance: https://numpy.org/devdocs/release/1.20.0-notes.html#deprecations\n",
      "  categoricals = df.select_dtypes(include=np.object)\n"
     ]
    }
   ],
   "source": [
    "numeric = df.select_dtypes(include=np.number)\n",
    "categoricals = df.select_dtypes(include=np.object)"
   ]
  },
  {
   "cell_type": "code",
   "execution_count": 119,
   "id": "d6fb3d88",
   "metadata": {},
   "outputs": [
    {
     "data": {
      "text/html": [
       "<div>\n",
       "<style scoped>\n",
       "    .dataframe tbody tr th:only-of-type {\n",
       "        vertical-align: middle;\n",
       "    }\n",
       "\n",
       "    .dataframe tbody tr th {\n",
       "        vertical-align: top;\n",
       "    }\n",
       "\n",
       "    .dataframe thead th {\n",
       "        text-align: right;\n",
       "    }\n",
       "</style>\n",
       "<table border=\"1\" class=\"dataframe\">\n",
       "  <thead>\n",
       "    <tr style=\"text-align: right;\">\n",
       "      <th></th>\n",
       "      <th>customer_lifetime_value</th>\n",
       "      <th>income</th>\n",
       "      <th>monthly_premium_auto</th>\n",
       "      <th>months_since_last_claim</th>\n",
       "      <th>months_since_policy_inception</th>\n",
       "      <th>number_of_open_complaints</th>\n",
       "      <th>number_of_policies</th>\n",
       "      <th>total_claim_amount</th>\n",
       "    </tr>\n",
       "  </thead>\n",
       "  <tbody>\n",
       "    <tr>\n",
       "      <th>0</th>\n",
       "      <td>4809</td>\n",
       "      <td>48029</td>\n",
       "      <td>61</td>\n",
       "      <td>7</td>\n",
       "      <td>52</td>\n",
       "      <td>0</td>\n",
       "      <td>9</td>\n",
       "      <td>292</td>\n",
       "    </tr>\n",
       "    <tr>\n",
       "      <th>1</th>\n",
       "      <td>2228</td>\n",
       "      <td>92260</td>\n",
       "      <td>64</td>\n",
       "      <td>3</td>\n",
       "      <td>26</td>\n",
       "      <td>0</td>\n",
       "      <td>1</td>\n",
       "      <td>744</td>\n",
       "    </tr>\n",
       "    <tr>\n",
       "      <th>2</th>\n",
       "      <td>14947</td>\n",
       "      <td>22139</td>\n",
       "      <td>100</td>\n",
       "      <td>34</td>\n",
       "      <td>31</td>\n",
       "      <td>0</td>\n",
       "      <td>2</td>\n",
       "      <td>480</td>\n",
       "    </tr>\n",
       "    <tr>\n",
       "      <th>3</th>\n",
       "      <td>22332</td>\n",
       "      <td>49078</td>\n",
       "      <td>97</td>\n",
       "      <td>10</td>\n",
       "      <td>3</td>\n",
       "      <td>0</td>\n",
       "      <td>2</td>\n",
       "      <td>484</td>\n",
       "    </tr>\n",
       "    <tr>\n",
       "      <th>4</th>\n",
       "      <td>9025</td>\n",
       "      <td>23675</td>\n",
       "      <td>117</td>\n",
       "      <td>33</td>\n",
       "      <td>31</td>\n",
       "      <td>0</td>\n",
       "      <td>7</td>\n",
       "      <td>707</td>\n",
       "    </tr>\n",
       "  </tbody>\n",
       "</table>\n",
       "</div>"
      ],
      "text/plain": [
       "   customer_lifetime_value  income  monthly_premium_auto  \\\n",
       "0                     4809   48029                    61   \n",
       "1                     2228   92260                    64   \n",
       "2                    14947   22139                   100   \n",
       "3                    22332   49078                    97   \n",
       "4                     9025   23675                   117   \n",
       "\n",
       "   months_since_last_claim  months_since_policy_inception  \\\n",
       "0                        7                             52   \n",
       "1                        3                             26   \n",
       "2                       34                             31   \n",
       "3                       10                              3   \n",
       "4                       33                             31   \n",
       "\n",
       "   number_of_open_complaints  number_of_policies  total_claim_amount  \n",
       "0                          0                   9                 292  \n",
       "1                          0                   1                 744  \n",
       "2                          0                   2                 480  \n",
       "3                          0                   2                 484  \n",
       "4                          0                   7                 707  "
      ]
     },
     "execution_count": 119,
     "metadata": {},
     "output_type": "execute_result"
    }
   ],
   "source": [
    "numeric.head()"
   ]
  },
  {
   "cell_type": "code",
   "execution_count": 120,
   "id": "0b6c2905",
   "metadata": {},
   "outputs": [
    {
     "data": {
      "image/png": "[encoded data removed]",
      "text/plain": [
       "<Figure size 576x360 with 2 Axes>"
      ]
     },
     "metadata": {
      "needs_background": "light"
     },
     "output_type": "display_data"
    }
   ],
   "source": [
    "fig=plt.figure(figsize=(8,5))\n",
    "sns.heatmap(numeric.corr(),annot=True)\n",
    "plt.show()\n",
    "#There're some correlated features like (monthly_premium_auto & total_claim_amount) and (total_claim_amount & CLV)"
   ]
  },
  {
   "cell_type": "markdown",
   "id": "e78d5b31",
   "metadata": {},
   "source": [
    "**One Hot/Label Encoding of the categorical variables in the categoricals data frame that you created in Activity 3. ( Hint: check Dropfirst option).**"
   ]
  },
  {
   "cell_type": "code",
   "execution_count": 121,
   "id": "fa862135",
   "metadata": {},
   "outputs": [],
   "source": [
    "from sklearn import preprocessing\n",
    "label_encoder = preprocessing.LabelEncoder()\n",
    "\n",
    "#function label encoder\n",
    "def categoricals_encoding(x):\n",
    "    categoricals[x] = label_encoder.fit_transform(categoricals[x])\n",
    "    return categoricals\n",
    "\n",
    "#function dummy"
   ]
  },
  {
   "cell_type": "markdown",
   "id": "7dd4a9bd",
   "metadata": {},
   "source": [
    "My valoration: \n",
    "- region (hot)\n",
    "- response (label)\n",
    "- coverage (label)\n",
    "- education (label)\n",
    "- employment (label)\n",
    "- gender(hot)\n",
    "- martial_status (label)\n",
    "- poliy (label)\n",
    "- renew offer tyoe (hot)\n",
    "- sales channel (label)\n",
    "- vehicle class(label)\n",
    "- vehicle size (label)\n",
    "\n",
    "- drop: 'effective_to_date', 'month'\n"
   ]
  },
  {
   "cell_type": "code",
   "execution_count": 122,
   "id": "43bb52c3",
   "metadata": {},
   "outputs": [
    {
     "data": {
      "text/plain": [
       "Index(['region', 'response', 'coverage', 'education', 'effective_to_date',\n",
       "       'month', 'employment_status', 'gender', 'location_code',\n",
       "       'marital_status', 'policy_type', 'policy', 'renew_offer_type',\n",
       "       'sales_channel', 'vehicle_class', 'vehicle_size'],\n",
       "      dtype='object')"
      ]
     },
     "execution_count": 122,
     "metadata": {},
     "output_type": "execute_result"
    }
   ],
   "source": [
    "#I'll create a list of the label columns \n",
    "categoricals.keys()"
   ]
  },
  {
   "cell_type": "code",
   "execution_count": 123,
   "id": "20fcfdaf",
   "metadata": {},
   "outputs": [],
   "source": [
    "list_label_categoricals = ['response', 'coverage', 'education', 'employment_status', 'location_code',\n",
    "       'marital_status', 'policy_type', 'policy', 'sales_channel', 'vehicle_class', 'vehicle_size']\n",
    "list_hot_encoding = ['region','gender','renew_offer_type','renew_offer_type']\n",
    "list_drop = ['effective_to_date', 'month']"
   ]
  },
  {
   "cell_type": "code",
   "execution_count": 124,
   "id": "090f9c30",
   "metadata": {},
   "outputs": [],
   "source": [
    "df = df.drop(['effective_to_date', 'month'], axis=1)"
   ]
  },
  {
   "cell_type": "code",
   "execution_count": 125,
   "id": "4c254eae",
   "metadata": {},
   "outputs": [],
   "source": [
    "from sklearn import preprocessing\n",
    "label_encoder = preprocessing.LabelEncoder()\n",
    "\n",
    "#function label encoder \n",
    "education1 = {'high school':1, 'master':2}\n",
    "\n",
    "def label_encoding(x):\n",
    "    df[x] = label_encoder.fit_transform(df[x])\n",
    "    return df"
   ]
  },
  {
   "cell_type": "code",
   "execution_count": 126,
   "id": "91bb9ce9",
   "metadata": {},
   "outputs": [],
   "source": [
    "#function dummy (hot encoder)\n",
    "df = pd.get_dummies(df, columns = ['region','gender','renew_offer_type','renew_offer_type'])"
   ]
  },
  {
   "cell_type": "code",
   "execution_count": 127,
   "id": "287ff5c5",
   "metadata": {},
   "outputs": [],
   "source": [
    "for i in list_label_categoricals:\n",
    "    label_encoding(i)"
   ]
  },
  {
   "cell_type": "markdown",
   "id": "4edd4621",
   "metadata": {},
   "source": [
    "df.info()"
   ]
  },
  {
   "cell_type": "markdown",
   "id": "aeb90c08",
   "metadata": {},
   "source": [
    "(Tuesday)\n",
    "\n",
    "**Linear Regression**\n",
    "\n",
    "- X-y split (y is the target variable, which is the total claim amount)\n",
    "- Train-test split.\n",
    "- Standardize the data (after the data split).\n",
    "- Apply linear regression.\n",
    "- Model Interpretation.\n"
   ]
  },
  {
   "cell_type": "markdown",
   "id": "762422ab",
   "metadata": {},
   "source": [
    "**X-Y split (y is the target variable, which is the total claim amount)**"
   ]
  },
  {
   "cell_type": "code",
   "execution_count": 128,
   "id": "c0c43c04",
   "metadata": {},
   "outputs": [],
   "source": [
    "numeric = numeric.select_dtypes(include=np.number)\n",
    "\n",
    "\n",
    "x=numeric.drop('total_claim_amount', axis=1)\n",
    "y=numeric.total_claim_amount "
   ]
  },
  {
   "cell_type": "code",
   "execution_count": 129,
   "id": "3177123c",
   "metadata": {},
   "outputs": [
    {
     "data": {
      "text/html": [
       "<div>\n",
       "<style scoped>\n",
       "    .dataframe tbody tr th:only-of-type {\n",
       "        vertical-align: middle;\n",
       "    }\n",
       "\n",
       "    .dataframe tbody tr th {\n",
       "        vertical-align: top;\n",
       "    }\n",
       "\n",
       "    .dataframe thead th {\n",
       "        text-align: right;\n",
       "    }\n",
       "</style>\n",
       "<table border=\"1\" class=\"dataframe\">\n",
       "  <thead>\n",
       "    <tr style=\"text-align: right;\">\n",
       "      <th></th>\n",
       "      <th>customer_lifetime_value</th>\n",
       "      <th>income</th>\n",
       "      <th>monthly_premium_auto</th>\n",
       "      <th>months_since_last_claim</th>\n",
       "      <th>months_since_policy_inception</th>\n",
       "      <th>number_of_open_complaints</th>\n",
       "      <th>number_of_policies</th>\n",
       "      <th>total_claim_amount</th>\n",
       "    </tr>\n",
       "  </thead>\n",
       "  <tbody>\n",
       "    <tr>\n",
       "      <th>0</th>\n",
       "      <td>4809</td>\n",
       "      <td>48029</td>\n",
       "      <td>61</td>\n",
       "      <td>7</td>\n",
       "      <td>52</td>\n",
       "      <td>0</td>\n",
       "      <td>9</td>\n",
       "      <td>292</td>\n",
       "    </tr>\n",
       "    <tr>\n",
       "      <th>1</th>\n",
       "      <td>2228</td>\n",
       "      <td>92260</td>\n",
       "      <td>64</td>\n",
       "      <td>3</td>\n",
       "      <td>26</td>\n",
       "      <td>0</td>\n",
       "      <td>1</td>\n",
       "      <td>744</td>\n",
       "    </tr>\n",
       "    <tr>\n",
       "      <th>2</th>\n",
       "      <td>14947</td>\n",
       "      <td>22139</td>\n",
       "      <td>100</td>\n",
       "      <td>34</td>\n",
       "      <td>31</td>\n",
       "      <td>0</td>\n",
       "      <td>2</td>\n",
       "      <td>480</td>\n",
       "    </tr>\n",
       "    <tr>\n",
       "      <th>3</th>\n",
       "      <td>22332</td>\n",
       "      <td>49078</td>\n",
       "      <td>97</td>\n",
       "      <td>10</td>\n",
       "      <td>3</td>\n",
       "      <td>0</td>\n",
       "      <td>2</td>\n",
       "      <td>484</td>\n",
       "    </tr>\n",
       "    <tr>\n",
       "      <th>4</th>\n",
       "      <td>9025</td>\n",
       "      <td>23675</td>\n",
       "      <td>117</td>\n",
       "      <td>33</td>\n",
       "      <td>31</td>\n",
       "      <td>0</td>\n",
       "      <td>7</td>\n",
       "      <td>707</td>\n",
       "    </tr>\n",
       "    <tr>\n",
       "      <th>...</th>\n",
       "      <td>...</td>\n",
       "      <td>...</td>\n",
       "      <td>...</td>\n",
       "      <td>...</td>\n",
       "      <td>...</td>\n",
       "      <td>...</td>\n",
       "      <td>...</td>\n",
       "      <td>...</td>\n",
       "    </tr>\n",
       "    <tr>\n",
       "      <th>10684</th>\n",
       "      <td>15563</td>\n",
       "      <td>61541</td>\n",
       "      <td>253</td>\n",
       "      <td>12</td>\n",
       "      <td>40</td>\n",
       "      <td>0</td>\n",
       "      <td>7</td>\n",
       "      <td>1214</td>\n",
       "    </tr>\n",
       "    <tr>\n",
       "      <th>10685</th>\n",
       "      <td>5259</td>\n",
       "      <td>61146</td>\n",
       "      <td>65</td>\n",
       "      <td>7</td>\n",
       "      <td>68</td>\n",
       "      <td>0</td>\n",
       "      <td>6</td>\n",
       "      <td>273</td>\n",
       "    </tr>\n",
       "    <tr>\n",
       "      <th>10686</th>\n",
       "      <td>23893</td>\n",
       "      <td>39837</td>\n",
       "      <td>201</td>\n",
       "      <td>11</td>\n",
       "      <td>63</td>\n",
       "      <td>0</td>\n",
       "      <td>2</td>\n",
       "      <td>381</td>\n",
       "    </tr>\n",
       "    <tr>\n",
       "      <th>10687</th>\n",
       "      <td>11971</td>\n",
       "      <td>64195</td>\n",
       "      <td>158</td>\n",
       "      <td>0</td>\n",
       "      <td>27</td>\n",
       "      <td>4</td>\n",
       "      <td>6</td>\n",
       "      <td>618</td>\n",
       "    </tr>\n",
       "    <tr>\n",
       "      <th>10688</th>\n",
       "      <td>6857</td>\n",
       "      <td>68942</td>\n",
       "      <td>101</td>\n",
       "      <td>31</td>\n",
       "      <td>1</td>\n",
       "      <td>0</td>\n",
       "      <td>3</td>\n",
       "      <td>1021</td>\n",
       "    </tr>\n",
       "  </tbody>\n",
       "</table>\n",
       "<p>10689 rows × 8 columns</p>\n",
       "</div>"
      ],
      "text/plain": [
       "       customer_lifetime_value  income  monthly_premium_auto  \\\n",
       "0                         4809   48029                    61   \n",
       "1                         2228   92260                    64   \n",
       "2                        14947   22139                   100   \n",
       "3                        22332   49078                    97   \n",
       "4                         9025   23675                   117   \n",
       "...                        ...     ...                   ...   \n",
       "10684                    15563   61541                   253   \n",
       "10685                     5259   61146                    65   \n",
       "10686                    23893   39837                   201   \n",
       "10687                    11971   64195                   158   \n",
       "10688                     6857   68942                   101   \n",
       "\n",
       "       months_since_last_claim  months_since_policy_inception  \\\n",
       "0                            7                             52   \n",
       "1                            3                             26   \n",
       "2                           34                             31   \n",
       "3                           10                              3   \n",
       "4                           33                             31   \n",
       "...                        ...                            ...   \n",
       "10684                       12                             40   \n",
       "10685                        7                             68   \n",
       "10686                       11                             63   \n",
       "10687                        0                             27   \n",
       "10688                       31                              1   \n",
       "\n",
       "       number_of_open_complaints  number_of_policies  total_claim_amount  \n",
       "0                              0                   9                 292  \n",
       "1                              0                   1                 744  \n",
       "2                              0                   2                 480  \n",
       "3                              0                   2                 484  \n",
       "4                              0                   7                 707  \n",
       "...                          ...                 ...                 ...  \n",
       "10684                          0                   7                1214  \n",
       "10685                          0                   6                 273  \n",
       "10686                          0                   2                 381  \n",
       "10687                          4                   6                 618  \n",
       "10688                          0                   3                1021  \n",
       "\n",
       "[10689 rows x 8 columns]"
      ]
     },
     "execution_count": 129,
     "metadata": {},
     "output_type": "execute_result"
    }
   ],
   "source": [
    "numeric"
   ]
  },
  {
   "cell_type": "markdown",
   "id": "a9eb46d3",
   "metadata": {},
   "source": [
    "**Train-test split.**"
   ]
  },
  {
   "cell_type": "code",
   "execution_count": 130,
   "id": "69450b7c",
   "metadata": {},
   "outputs": [],
   "source": [
    "X_train, X_test, y_train, y_test=train_test_split(x, y, test_size=.30,random_state=42)"
   ]
  },
  {
   "cell_type": "markdown",
   "id": "04d2d4b1",
   "metadata": {},
   "source": [
    "**Standardize the data (after the data split).**"
   ]
  },
  {
   "cell_type": "code",
   "execution_count": 131,
   "id": "7a332a9b",
   "metadata": {},
   "outputs": [],
   "source": [
    "std_scaler=StandardScaler().fit(X_train)   ##. finding the parameters ( mean, variance from the training set )\n",
    "\n",
    "X_train_scaled=std_scaler.transform(X_train)"
   ]
  },
  {
   "cell_type": "code",
   "execution_count": 132,
   "id": "77640ce7",
   "metadata": {},
   "outputs": [
    {
     "data": {
      "text/plain": [
       "(7482, 7)"
      ]
     },
     "execution_count": 132,
     "metadata": {},
     "output_type": "execute_result"
    }
   ],
   "source": [
    "X_test_scaled=std_scaler.transform(X_test)\n",
    "X_train.shape"
   ]
  },
  {
   "cell_type": "code",
   "execution_count": 133,
   "id": "130769e5",
   "metadata": {},
   "outputs": [
    {
     "name": "stdout",
     "output_type": "stream",
     "text": [
      "[[ 0.09537036 -0.38616002 -0.2975471  ...  1.49683921  0.68183709\n",
      "  -0.41232904]\n",
      " [-0.55139048 -1.59933399  0.45573807 ... -0.5121996  -0.41999987\n",
      "  -0.82917079]\n",
      " [-0.82084995 -1.28788435 -0.87699722 ...  1.71209337 -0.41999987\n",
      "  -0.82917079]\n",
      " ...\n",
      " [-0.54732098 -1.28909716 -0.84802472 ... -1.44496762  3.98734797\n",
      "   2.08872151]\n",
      " [ 0.71713282  1.02437858  0.36882055 ...  1.49683921 -0.41999987\n",
      "  -0.41232904]\n",
      " [-0.15403225  0.47238827  0.19498551 ...  0.20531426 -0.41999987\n",
      "   1.67187975]]\n",
      "--------\n",
      "[[-0.45575708  0.84601464 -0.93494224 ...  1.06633089 -0.41999987\n",
      "   0.83819624]\n",
      " [ 0.17821389 -0.36873598  0.6295731  ...  1.06633089 -0.41999987\n",
      "   0.00451272]\n",
      " [-0.69818339  0.67306792 -0.38446462 ... -0.11756698 -0.41999987\n",
      "  -0.82917079]\n",
      " ...\n",
      " [-0.77724809 -1.22995245 -0.64521717 ...  0.27706565 -0.41999987\n",
      "  -0.82917079]\n",
      " [-0.48438897 -0.6424268   0.71649062 ...  0.06181149  0.68183709\n",
      "  -0.82917079]\n",
      " [ 2.08099884  1.92108996 -0.67418968 ... -0.76332945 -0.41999987\n",
      "  -0.41232904]]\n"
     ]
    }
   ],
   "source": [
    "print(X_train_scaled)\n",
    "print(\"--------\")\n",
    "print(X_test_scaled)"
   ]
  },
  {
   "cell_type": "markdown",
   "id": "60d31202",
   "metadata": {},
   "source": [
    "**Apply linear regression.**"
   ]
  },
  {
   "cell_type": "code",
   "execution_count": 134,
   "id": "32c082a7",
   "metadata": {},
   "outputs": [
    {
     "name": "stdout",
     "output_type": "stream",
     "text": [
      "                            OLS Regression Results                            \n",
      "==============================================================================\n",
      "Dep. Variable:     total_claim_amount   R-squared:                       0.409\n",
      "Model:                            OLS   Adj. R-squared:                  0.408\n",
      "Method:                 Least Squares   F-statistic:                     738.0\n",
      "Date:                Wed, 09 Nov 2022   Prob (F-statistic):               0.00\n",
      "Time:                        17:09:09   Log-Likelihood:                -51177.\n",
      "No. Observations:                7482   AIC:                         1.024e+05\n",
      "Df Residuals:                    7474   BIC:                         1.024e+05\n",
      "Df Model:                           7                                         \n",
      "Covariance Type:            nonrobust                                         \n",
      "==============================================================================\n",
      "                 coef    std err          t      P>|t|      [0.025      0.975]\n",
      "------------------------------------------------------------------------------\n",
      "const        433.3067      2.615    165.674      0.000     428.180     438.434\n",
      "x1            -6.0422      2.871     -2.104      0.035     -11.671      -0.414\n",
      "x2           -34.3526      2.616    -13.130      0.000     -39.482     -29.224\n",
      "x3           187.2859      2.870     65.252      0.000     181.659     192.912\n",
      "x4             1.6047      2.618      0.613      0.540      -3.527       6.736\n",
      "x5            -3.6115      2.617     -1.380      0.168      -8.743       1.520\n",
      "x6             1.5416      2.618      0.589      0.556      -3.590       6.673\n",
      "x7             3.3026      2.617      1.262      0.207      -1.827       8.432\n",
      "==============================================================================\n",
      "Omnibus:                      981.639   Durbin-Watson:                   2.002\n",
      "Prob(Omnibus):                  0.000   Jarque-Bera (JB):             4926.858\n",
      "Skew:                           0.537   Prob(JB):                         0.00\n",
      "Kurtosis:                       6.828   Cond. No.                         1.55\n",
      "==============================================================================\n",
      "\n",
      "Notes:\n",
      "[1] Standard Errors assume that the covariance matrix of the errors is correctly specified.\n"
     ]
    }
   ],
   "source": [
    "X_train_const_scaled = sm.add_constant(X_train_scaled) # adding a constant (intercept)\n",
    "\n",
    "model = sm.OLS(y_train, X_train_const_scaled).fit()\n",
    "predictions_train = model.predict(X_train_const_scaled) \n",
    "\n",
    "X_test_const_scaled = sm.add_constant(X_test_scaled) # adding a constant (intercept)\n",
    "predictions_test = model.predict(X_test_const_scaled) \n",
    "\n",
    "\n",
    "print_model = model.summary()\n",
    "\n",
    "print(print_model)"
   ]
  },
  {
   "cell_type": "markdown",
   "id": "7f0e90b4",
   "metadata": {},
   "source": []
  },
  {
   "cell_type": "code",
   "execution_count": 135,
   "id": "1378331e",
   "metadata": {},
   "outputs": [
    {
     "data": {
      "text/plain": [
       "array([385.00540349, 573.79444239, 309.77470214, ..., 342.05493619,\n",
       "       456.68569402, 457.05786385])"
      ]
     },
     "execution_count": 135,
     "metadata": {},
     "output_type": "execute_result"
    }
   ],
   "source": [
    "predictions_train"
   ]
  },
  {
   "cell_type": "code",
   "execution_count": 136,
   "id": "c419a8c1",
   "metadata": {},
   "outputs": [
    {
     "data": {
      "text/plain": [
       "array([227.77325245, 557.51126627, 337.04484372, ..., 356.74506197,\n",
       "       588.82009904, 230.30402597])"
      ]
     },
     "execution_count": 136,
     "metadata": {},
     "output_type": "execute_result"
    }
   ],
   "source": [
    "predictions_test"
   ]
  },
  {
   "cell_type": "markdown",
   "id": "1abe4da9",
   "metadata": {},
   "source": [
    "**Model Interpretation.**"
   ]
  },
  {
   "cell_type": "code",
   "execution_count": 137,
   "id": "680cf4ae",
   "metadata": {},
   "outputs": [],
   "source": [
    "# y = \n",
    "#433.0597 \n",
    "#-6.5986*customer_lifetime_value \n",
    "#-33.1813*income \n",
    "#+187.8019*monthly_premium_auto \n",
    "#+1.9060*months_since_last_claim \n",
    "#-0.9115*months_since_policy_inception\n",
    "#+1.7171*number_of_open_complaints\n",
    "#-2.3202*number_of_policies"
   ]
  },
  {
   "cell_type": "code",
   "execution_count": 138,
   "id": "8a8e9201",
   "metadata": {},
   "outputs": [
    {
     "data": {
      "text/html": [
       "<div>\n",
       "<style scoped>\n",
       "    .dataframe tbody tr th:only-of-type {\n",
       "        vertical-align: middle;\n",
       "    }\n",
       "\n",
       "    .dataframe tbody tr th {\n",
       "        vertical-align: top;\n",
       "    }\n",
       "\n",
       "    .dataframe thead th {\n",
       "        text-align: right;\n",
       "    }\n",
       "</style>\n",
       "<table border=\"1\" class=\"dataframe\">\n",
       "  <thead>\n",
       "    <tr style=\"text-align: right;\">\n",
       "      <th></th>\n",
       "      <th>customer_lifetime_value</th>\n",
       "      <th>income</th>\n",
       "      <th>monthly_premium_auto</th>\n",
       "      <th>months_since_last_claim</th>\n",
       "      <th>months_since_policy_inception</th>\n",
       "      <th>number_of_open_complaints</th>\n",
       "      <th>number_of_policies</th>\n",
       "    </tr>\n",
       "  </thead>\n",
       "  <tbody>\n",
       "    <tr>\n",
       "      <th>0</th>\n",
       "      <td>4809</td>\n",
       "      <td>48029</td>\n",
       "      <td>61</td>\n",
       "      <td>7</td>\n",
       "      <td>52</td>\n",
       "      <td>0</td>\n",
       "      <td>9</td>\n",
       "    </tr>\n",
       "    <tr>\n",
       "      <th>1</th>\n",
       "      <td>2228</td>\n",
       "      <td>92260</td>\n",
       "      <td>64</td>\n",
       "      <td>3</td>\n",
       "      <td>26</td>\n",
       "      <td>0</td>\n",
       "      <td>1</td>\n",
       "    </tr>\n",
       "    <tr>\n",
       "      <th>2</th>\n",
       "      <td>14947</td>\n",
       "      <td>22139</td>\n",
       "      <td>100</td>\n",
       "      <td>34</td>\n",
       "      <td>31</td>\n",
       "      <td>0</td>\n",
       "      <td>2</td>\n",
       "    </tr>\n",
       "    <tr>\n",
       "      <th>3</th>\n",
       "      <td>22332</td>\n",
       "      <td>49078</td>\n",
       "      <td>97</td>\n",
       "      <td>10</td>\n",
       "      <td>3</td>\n",
       "      <td>0</td>\n",
       "      <td>2</td>\n",
       "    </tr>\n",
       "    <tr>\n",
       "      <th>4</th>\n",
       "      <td>9025</td>\n",
       "      <td>23675</td>\n",
       "      <td>117</td>\n",
       "      <td>33</td>\n",
       "      <td>31</td>\n",
       "      <td>0</td>\n",
       "      <td>7</td>\n",
       "    </tr>\n",
       "  </tbody>\n",
       "</table>\n",
       "</div>"
      ],
      "text/plain": [
       "   customer_lifetime_value  income  monthly_premium_auto  \\\n",
       "0                     4809   48029                    61   \n",
       "1                     2228   92260                    64   \n",
       "2                    14947   22139                   100   \n",
       "3                    22332   49078                    97   \n",
       "4                     9025   23675                   117   \n",
       "\n",
       "   months_since_last_claim  months_since_policy_inception  \\\n",
       "0                        7                             52   \n",
       "1                        3                             26   \n",
       "2                       34                             31   \n",
       "3                       10                              3   \n",
       "4                       33                             31   \n",
       "\n",
       "   number_of_open_complaints  number_of_policies  \n",
       "0                          0                   9  \n",
       "1                          0                   1  \n",
       "2                          0                   2  \n",
       "3                          0                   2  \n",
       "4                          0                   7  "
      ]
     },
     "execution_count": 138,
     "metadata": {},
     "output_type": "execute_result"
    }
   ],
   "source": [
    "x.head()"
   ]
  },
  {
   "cell_type": "markdown",
   "id": "0d23feff",
   "metadata": {},
   "source": [
    "**Modelling**"
   ]
  },
  {
   "cell_type": "code",
   "execution_count": 149,
   "id": "37c725ea",
   "metadata": {},
   "outputs": [
    {
     "data": {
      "text/plain": [
       "LinearRegression()"
      ]
     },
     "execution_count": 149,
     "metadata": {},
     "output_type": "execute_result"
    }
   ],
   "source": [
    "model=LinearRegression()    # model\n",
    "model.fit(X_train_scaled, y_train)   # model train"
   ]
  },
  {
   "cell_type": "code",
   "execution_count": 150,
   "id": "162a63cb",
   "metadata": {},
   "outputs": [
    {
     "data": {
      "text/plain": [
       "3487      120\n",
       "668       660\n",
       "10315     244\n",
       "5332       86\n",
       "1523     1032\n",
       "         ... \n",
       "5928      406\n",
       "3706      321\n",
       "7735       45\n",
       "9320      597\n",
       "7924       48\n",
       "Name: total_claim_amount, Length: 3207, dtype: int64"
      ]
     },
     "execution_count": 150,
     "metadata": {},
     "output_type": "execute_result"
    }
   ],
   "source": [
    "y_test"
   ]
  },
  {
   "cell_type": "code",
   "execution_count": 151,
   "id": "ff8e22b9",
   "metadata": {},
   "outputs": [
    {
     "data": {
      "text/plain": [
       "10237    398\n",
       "2689     489\n",
       "4489     352\n",
       "10401    491\n",
       "749      640\n",
       "        ... \n",
       "5734      79\n",
       "5191       3\n",
       "5390     460\n",
       "860      468\n",
       "7270     925\n",
       "Name: total_claim_amount, Length: 7482, dtype: int64"
      ]
     },
     "execution_count": 151,
     "metadata": {},
     "output_type": "execute_result"
    }
   ],
   "source": [
    "y_train"
   ]
  },
  {
   "cell_type": "markdown",
   "id": "6774fcb0",
   "metadata": {},
   "source": [
    "**Making prediction**"
   ]
  },
  {
   "cell_type": "code",
   "execution_count": 152,
   "id": "acd23f3d",
   "metadata": {},
   "outputs": [],
   "source": [
    "y_pred=model.predict(X_test_scaled)\n",
    "\n",
    "\n",
    "y_pred_train=model.predict(X_train_scaled)"
   ]
  },
  {
   "cell_type": "code",
   "execution_count": 153,
   "id": "5ff5fba1",
   "metadata": {},
   "outputs": [
    {
     "name": "stdout",
     "output_type": "stream",
     "text": [
      "[227.77325245 557.51126627 337.04484372 ... 356.74506197 588.82009904\n",
      " 230.30402597]\n",
      "---\n",
      "[385.00540349 573.79444239 309.77470214 ... 342.05493619 456.68569402\n",
      " 457.05786385]\n"
     ]
    }
   ],
   "source": [
    "print(y_pred)\n",
    "print(\"---\")\n",
    "print(y_pred_train)"
   ]
  },
  {
   "cell_type": "markdown",
   "id": "fa0ed2bb",
   "metadata": {},
   "source": [
    "(Wednesday)\n",
    "\n",
    "**Model Validation**\n",
    "- Model Evaluation:\n",
    "MSE (Mean Square Error)\n",
    "RMSE (Root Mean Square Error)\n",
    "MAE (Mean Absolute Error)\n",
    "R2.\n",
    "Adjusted R2.\n",
    "-Feature Importance."
   ]
  },
  {
   "cell_type": "code",
   "execution_count": 154,
   "id": "c7ae1c83",
   "metadata": {},
   "outputs": [],
   "source": [
    "result=pd.DataFrame({\"y_test\":y_test,\"y_pred\":y_pred})"
   ]
  },
  {
   "cell_type": "code",
   "execution_count": 155,
   "id": "02702df3",
   "metadata": {},
   "outputs": [
    {
     "data": {
      "text/plain": [
       "<AxesSubplot:xlabel='y_pred', ylabel='y_test'>"
      ]
     },
     "execution_count": 155,
     "metadata": {},
     "output_type": "execute_result"
    },
    {
     "data": {
      "image/png": "[encoded data removed]",
      "text/plain": [
       "<Figure size 432x288 with 1 Axes>"
      ]
     },
     "metadata": {
      "needs_background": "light"
     },
     "output_type": "display_data"
    }
   ],
   "source": [
    "sns.regplot(x='y_pred',y='y_test', data=result, scatter_kws={\"color\": \"red\"}, line_kws={\"color\": \"black\"})"
   ]
  },
  {
   "cell_type": "code",
   "execution_count": 156,
   "id": "e1e49e48",
   "metadata": {},
   "outputs": [
    {
     "data": {
      "text/plain": [
       "[<matplotlib.lines.Line2D at 0x7f9c8c52fa90>]"
      ]
     },
     "execution_count": 156,
     "metadata": {},
     "output_type": "execute_result"
    },
    {
     "data": {
      "image/png": "[encoded data removed]",
      "text/plain": [
       "<Figure size 1008x288 with 3 Axes>"
      ]
     },
     "metadata": {
      "needs_background": "light"
     },
     "output_type": "display_data"
    }
   ],
   "source": [
    "fig, ax = plt.subplots(1,3,figsize=(14,4))\n",
    "ax[0].plot(y_pred, y_test, 'o')\n",
    "ax[0].set_xlabel(\"y_test\")\n",
    "ax[0].set_ylabel(\"y_pred\")\n",
    "ax[0].set_title(\"Test Set -Predicted vs real\")\n",
    "\n",
    "ax[1].hist(y_test - y_pred)\n",
    "ax[1].set_xlabel(\"Test y-y_pred\")\n",
    "ax[1].set_title(\"Test Set Residual histogram\")\n",
    "\n",
    "\n",
    "ax[2].plot(y_pred,y_test - y_pred,\"o\")\n",
    "ax[2].set_xlabel(\"predited\")\n",
    "ax[2].set_ylabel(\"residuals\")\n",
    "ax[2].set_title(\"Residuals by Predicted\")\n",
    "ax[2].plot(y_pred,np.zeros(len(y_pred)),linestyle='dashed')"
   ]
  },
  {
   "cell_type": "code",
   "execution_count": 157,
   "id": "ef59cb93",
   "metadata": {},
   "outputs": [],
   "source": [
    "#the regression residuals follow a normal distribution. "
   ]
  },
  {
   "cell_type": "code",
   "execution_count": 158,
   "id": "ace9e20d",
   "metadata": {},
   "outputs": [
    {
     "name": "stdout",
     "output_type": "stream",
     "text": [
      "49154.64390326823\n",
      "152.83216224246732\n"
     ]
    }
   ],
   "source": [
    "print(mse(y_test,y_pred))#Mean Square Error\n",
    "print(mae(y_test,y_pred)) #Mean Absolute Error"
   ]
  },
  {
   "cell_type": "code",
   "execution_count": 159,
   "id": "a273887e",
   "metadata": {},
   "outputs": [
    {
     "data": {
      "text/plain": [
       "51125.07027313841"
      ]
     },
     "execution_count": 159,
     "metadata": {},
     "output_type": "execute_result"
    }
   ],
   "source": [
    "##prediction on the train set, we see that the y_ped_train has a higher mse than y_test. We could be in a case of overfitting, however the difference is not that big so it's fine.R2=r2_score(y_test,y_pred)\n",
    "\n",
    "mse(y_train,y_pred_train)"
   ]
  },
  {
   "cell_type": "code",
   "execution_count": 160,
   "id": "553d9678",
   "metadata": {},
   "outputs": [
    {
     "data": {
      "text/plain": [
       "0.4114006217055418"
      ]
     },
     "execution_count": 160,
     "metadata": {},
     "output_type": "execute_result"
    }
   ],
   "source": [
    "R2=r2_score(y_test,y_pred)\n",
    "R2"
   ]
  },
  {
   "cell_type": "code",
   "execution_count": 161,
   "id": "d47728b0",
   "metadata": {},
   "outputs": [],
   "source": [
    "R2_test=model.score(X_test_scaled,y_test)\n",
    "R2_train=model.score(X_train_scaled,y_train)"
   ]
  },
  {
   "cell_type": "code",
   "execution_count": 162,
   "id": "d95d6ea2",
   "metadata": {},
   "outputs": [
    {
     "data": {
      "text/plain": [
       "0.4101126580768888"
      ]
     },
     "execution_count": 162,
     "metadata": {},
     "output_type": "execute_result"
    }
   ],
   "source": [
    "Adj_R2= 1 - (1-R2)*(len(y_test)-1)/(len(y_test)-X_test.shape[1]-1)\n",
    "Adj_R2"
   ]
  },
  {
   "cell_type": "markdown",
   "id": "4c16e8ac",
   "metadata": {},
   "source": [
    "**Feature Importance.**"
   ]
  },
  {
   "cell_type": "code",
   "execution_count": 163,
   "id": "361f9383",
   "metadata": {},
   "outputs": [],
   "source": [
    "features_importances = pd.DataFrame(data={\n",
    "    'Attribute': X_train.columns,\n",
    "    'Importance': abs(model.coef_)\n",
    "})\n",
    "features_importances = features_importances.sort_values(by='Importance', ascending=False)"
   ]
  },
  {
   "cell_type": "code",
   "execution_count": 164,
   "id": "d9fc1b06",
   "metadata": {},
   "outputs": [
    {
     "data": {
      "text/html": [
       "<div>\n",
       "<style scoped>\n",
       "    .dataframe tbody tr th:only-of-type {\n",
       "        vertical-align: middle;\n",
       "    }\n",
       "\n",
       "    .dataframe tbody tr th {\n",
       "        vertical-align: top;\n",
       "    }\n",
       "\n",
       "    .dataframe thead th {\n",
       "        text-align: right;\n",
       "    }\n",
       "</style>\n",
       "<table border=\"1\" class=\"dataframe\">\n",
       "  <thead>\n",
       "    <tr style=\"text-align: right;\">\n",
       "      <th></th>\n",
       "      <th>Attribute</th>\n",
       "      <th>Importance</th>\n",
       "    </tr>\n",
       "  </thead>\n",
       "  <tbody>\n",
       "    <tr>\n",
       "      <th>2</th>\n",
       "      <td>monthly_premium_auto</td>\n",
       "      <td>187.285858</td>\n",
       "    </tr>\n",
       "    <tr>\n",
       "      <th>1</th>\n",
       "      <td>income</td>\n",
       "      <td>34.352649</td>\n",
       "    </tr>\n",
       "    <tr>\n",
       "      <th>0</th>\n",
       "      <td>customer_lifetime_value</td>\n",
       "      <td>6.042212</td>\n",
       "    </tr>\n",
       "    <tr>\n",
       "      <th>4</th>\n",
       "      <td>months_since_policy_inception</td>\n",
       "      <td>3.611510</td>\n",
       "    </tr>\n",
       "    <tr>\n",
       "      <th>6</th>\n",
       "      <td>number_of_policies</td>\n",
       "      <td>3.302638</td>\n",
       "    </tr>\n",
       "    <tr>\n",
       "      <th>3</th>\n",
       "      <td>months_since_last_claim</td>\n",
       "      <td>1.604738</td>\n",
       "    </tr>\n",
       "    <tr>\n",
       "      <th>5</th>\n",
       "      <td>number_of_open_complaints</td>\n",
       "      <td>1.541622</td>\n",
       "    </tr>\n",
       "  </tbody>\n",
       "</table>\n",
       "</div>"
      ],
      "text/plain": [
       "                       Attribute  Importance\n",
       "2           monthly_premium_auto  187.285858\n",
       "1                         income   34.352649\n",
       "0        customer_lifetime_value    6.042212\n",
       "4  months_since_policy_inception    3.611510\n",
       "6             number_of_policies    3.302638\n",
       "3        months_since_last_claim    1.604738\n",
       "5      number_of_open_complaints    1.541622"
      ]
     },
     "execution_count": 164,
     "metadata": {},
     "output_type": "execute_result"
    }
   ],
   "source": [
    "features_importances"
   ]
  },
  {
   "cell_type": "code",
   "execution_count": 165,
   "id": "84281ad1",
   "metadata": {},
   "outputs": [
    {
     "data": {
      "image/png": "[encoded data removed]",
      "text/plain": [
       "<Figure size 432x288 with 1 Axes>"
      ]
     },
     "metadata": {
      "needs_background": "light"
     },
     "output_type": "display_data"
    }
   ],
   "source": [
    "plt.bar(x=features_importances['Attribute'], height=features_importances['Importance'], color='#087E8B')\n",
    "plt.title('Feature importances obtained from coefficients', size=20)\n",
    "plt.xticks(rotation='vertical')\n",
    "plt.show()"
   ]
  },
  {
   "cell_type": "code",
   "execution_count": 167,
   "id": "50c5feaa",
   "metadata": {},
   "outputs": [],
   "source": [
    "numeric.to_csv(\"Data/week4LAB.csv\")"
   ]
  },
  {
   "cell_type": "code",
   "execution_count": null,
   "id": "11d18b1f",
   "metadata": {},
   "outputs": [],
   "source": []
  }
 ],
 "metadata": {
  "kernelspec": {
   "display_name": "Python 3 (ipykernel)",
   "language": "python",
   "name": "python3"
  },
  "language_info": {
   "codemirror_mode": {
    "name": "ipython",
    "version": 3
   },
   "file_extension": ".py",
   "mimetype": "text/x-python",
   "name": "python",
   "nbconvert_exporter": "python",
   "pygments_lexer": "ipython3",
   "version": "3.9.12"
  }
 },
 "nbformat": 4,
 "nbformat_minor": 5
}
